{
 "cells": [
  {
   "cell_type": "markdown",
   "metadata": {
    "colab_type": "text",
    "id": "view-in-github"
   },
   "source": [
    "<a href=\"https://colab.research.google.com/github/Subikesh/Sentiment-Analysis/blob/master/Sentiment_analysis.ipynb\" target=\"_parent\"><img src=\"https://colab.research.google.com/assets/colab-badge.svg\" alt=\"Open In Colab\"/></a>"
   ]
  },
  {
   "cell_type": "markdown",
   "metadata": {
    "colab_type": "text",
    "id": "BsJJ_H6eQm3V"
   },
   "source": [
    "# Sentiment Analysis\n",
    "\n",
    "In this project we'll get the dataset containing the reviews from amazon for baby products and their corresponding ratings given by the users. \n",
    "We will clean the unstructured reviews to structured data by One-hot encoding.\n",
    "We will train many classification models on the dataset and analyse the sentiment for each reviews.\n",
    "And finally, we will find the best model by creating an accuracy table."
   ]
  },
  {
   "cell_type": "code",
   "execution_count": 1,
   "metadata": {
    "colab": {},
    "colab_type": "code",
    "id": "24wEk-igTEcN"
   },
   "outputs": [],
   "source": [
    "import pandas as pd\n",
    "import numpy as np\n",
    "\n",
    "pd.set_option('display.max_columns',5)"
   ]
  },
  {
   "cell_type": "markdown",
   "metadata": {
    "colab_type": "text",
    "id": "-C9DLXcCSzZ3"
   },
   "source": [
    "# Loading Data"
   ]
  },
  {
   "cell_type": "code",
   "execution_count": 2,
   "metadata": {
    "colab": {
     "base_uri": "https://localhost:8080/",
     "height": 34
    },
    "colab_type": "code",
    "id": "EX80Iwf2OpWS",
    "outputId": "04fc8af5-07e2-45c8-fe7d-0bc23d765a14"
   },
   "outputs": [],
   "source": [
    "# This code was used to import input files from my drive to colab\n",
    "# from google.colab import drive\n",
    "# drive.mount('/content/gdrive')"
   ]
  },
  {
   "cell_type": "markdown",
   "metadata": {
    "colab_type": "text",
    "id": "RzRoMHWAoC6N"
   },
   "source": [
    "The dataset amazon-baby.csv contains a larger dataset than the one used here. This is used because the algorithms takes lot of time in the larger dataset."
   ]
  },
  {
   "cell_type": "code",
   "execution_count": 3,
   "metadata": {
    "colab": {
     "base_uri": "https://localhost:8080/",
     "height": 195
    },
    "colab_type": "code",
    "id": "8sI-g0ytS7Sw",
    "outputId": "1d508095-7105-423a-dace-f788da1806e9"
   },
   "outputs": [
    {
     "data": {
      "text/html": [
       "<div>\n",
       "<style scoped>\n",
       "    .dataframe tbody tr th:only-of-type {\n",
       "        vertical-align: middle;\n",
       "    }\n",
       "\n",
       "    .dataframe tbody tr th {\n",
       "        vertical-align: top;\n",
       "    }\n",
       "\n",
       "    .dataframe thead th {\n",
       "        text-align: right;\n",
       "    }\n",
       "</style>\n",
       "<table border=\"1\" class=\"dataframe\">\n",
       "  <thead>\n",
       "    <tr style=\"text-align: right;\">\n",
       "      <th></th>\n",
       "      <th>name</th>\n",
       "      <th>review</th>\n",
       "      <th>rating</th>\n",
       "      <th>sentiment</th>\n",
       "    </tr>\n",
       "  </thead>\n",
       "  <tbody>\n",
       "    <tr>\n",
       "      <th>0</th>\n",
       "      <td>Stop Pacifier Sucking without tears with Thumb...</td>\n",
       "      <td>All of my kids have cried non-stop when I trie...</td>\n",
       "      <td>5</td>\n",
       "      <td>1</td>\n",
       "    </tr>\n",
       "    <tr>\n",
       "      <th>1</th>\n",
       "      <td>Nature's Lullabies Second Year Sticker Calendar</td>\n",
       "      <td>We wanted to get something to keep track of ou...</td>\n",
       "      <td>5</td>\n",
       "      <td>1</td>\n",
       "    </tr>\n",
       "    <tr>\n",
       "      <th>2</th>\n",
       "      <td>Nature's Lullabies Second Year Sticker Calendar</td>\n",
       "      <td>My daughter had her 1st baby over a year ago. ...</td>\n",
       "      <td>5</td>\n",
       "      <td>1</td>\n",
       "    </tr>\n",
       "    <tr>\n",
       "      <th>3</th>\n",
       "      <td>Lamaze Peekaboo, I Love You</td>\n",
       "      <td>One of baby's first and favorite books, and it...</td>\n",
       "      <td>4</td>\n",
       "      <td>1</td>\n",
       "    </tr>\n",
       "    <tr>\n",
       "      <th>4</th>\n",
       "      <td>SoftPlay Peek-A-Boo Where's Elmo A Children's ...</td>\n",
       "      <td>Very cute interactive book! My son loves this ...</td>\n",
       "      <td>5</td>\n",
       "      <td>1</td>\n",
       "    </tr>\n",
       "  </tbody>\n",
       "</table>\n",
       "</div>"
      ],
      "text/plain": [
       "                                                name  \\\n",
       "0  Stop Pacifier Sucking without tears with Thumb...   \n",
       "1    Nature's Lullabies Second Year Sticker Calendar   \n",
       "2    Nature's Lullabies Second Year Sticker Calendar   \n",
       "3                        Lamaze Peekaboo, I Love You   \n",
       "4  SoftPlay Peek-A-Boo Where's Elmo A Children's ...   \n",
       "\n",
       "                                              review  rating  sentiment  \n",
       "0  All of my kids have cried non-stop when I trie...       5          1  \n",
       "1  We wanted to get something to keep track of ou...       5          1  \n",
       "2  My daughter had her 1st baby over a year ago. ...       5          1  \n",
       "3  One of baby's first and favorite books, and it...       4          1  \n",
       "4  Very cute interactive book! My son loves this ...       5          1  "
      ]
     },
     "execution_count": 3,
     "metadata": {},
     "output_type": "execute_result"
    }
   ],
   "source": [
    "# amazon_data = pd.read_csv('/content/gdrive/My Drive/colab_input/amazon_baby.csv')\n",
    "amazon_data = pd.read_csv('Input/amazon_baby_subset.csv')\n",
    "amazon_data.head()"
   ]
  },
  {
   "cell_type": "markdown",
   "metadata": {
    "colab_type": "text",
    "id": "DojRszY60mCZ"
   },
   "source": [
    "Number of reviews for each rating in the dataset is shown below. Since this is a compact version of the original dataset, all the reviews with rating 3 are removed."
   ]
  },
  {
   "cell_type": "code",
   "execution_count": 4,
   "metadata": {
    "colab": {
     "base_uri": "https://localhost:8080/",
     "height": 293
    },
    "colab_type": "code",
    "id": "vGPVshp-Vxtc",
    "outputId": "cb58f2d4-970f-4b12-9265-3203bcbbe607"
   },
   "outputs": [
    {
     "data": {
      "text/plain": [
       "<matplotlib.axes._subplots.AxesSubplot at 0x10630c30>"
      ]
     },
     "execution_count": 4,
     "metadata": {},
     "output_type": "execute_result"
    },
    {
     "data": {
      "image/png": "[encoded data removed]",
      "text/plain": [
       "<Figure size 432x288 with 1 Axes>"
      ]
     },
     "metadata": {
      "needs_background": "light"
     },
     "output_type": "display_data"
    }
   ],
   "source": [
    "amazon_data.groupby('rating').size().plot.bar()"
   ]
  },
  {
   "cell_type": "markdown",
   "metadata": {
    "colab_type": "text",
    "id": "eCWRsVZnZWpw"
   },
   "source": [
    "## Cleaning Data\n",
    "\n",
    "Let's create a sentiment column with sentiments as per the ratings given and remove all the reviews with rating 3 because rating with 3 stars cannot be considered as positive or negative review."
   ]
  },
  {
   "cell_type": "code",
   "execution_count": 5,
   "metadata": {
    "colab": {
     "base_uri": "https://localhost:8080/",
     "height": 50
    },
    "colab_type": "code",
    "id": "7GYysATIaDKK",
    "outputId": "5a47d761-6c41-4da4-e61d-01ef61753a3e"
   },
   "outputs": [
    {
     "name": "stdout",
     "output_type": "stream",
     "text": [
      "Data before droping  (53072, 4)\n",
      "Data after droping rows (53072, 4)\n"
     ]
    }
   ],
   "source": [
    "print('Data before droping ', amazon_data.shape)\n",
    "amazon_data = amazon_data[amazon_data['rating'] != 3]\n",
    "print(\"Data after droping rows\", amazon_data.shape)"
   ]
  },
  {
   "cell_type": "code",
   "execution_count": 6,
   "metadata": {
    "colab": {
     "base_uri": "https://localhost:8080/",
     "height": 195
    },
    "colab_type": "code",
    "id": "yHo0BFxIalj3",
    "outputId": "dba77825-2846-4882-bc43-185b713a628e"
   },
   "outputs": [
    {
     "data": {
      "text/html": [
       "<div>\n",
       "<style scoped>\n",
       "    .dataframe tbody tr th:only-of-type {\n",
       "        vertical-align: middle;\n",
       "    }\n",
       "\n",
       "    .dataframe tbody tr th {\n",
       "        vertical-align: top;\n",
       "    }\n",
       "\n",
       "    .dataframe thead th {\n",
       "        text-align: right;\n",
       "    }\n",
       "</style>\n",
       "<table border=\"1\" class=\"dataframe\">\n",
       "  <thead>\n",
       "    <tr style=\"text-align: right;\">\n",
       "      <th></th>\n",
       "      <th>name</th>\n",
       "      <th>review</th>\n",
       "      <th>rating</th>\n",
       "      <th>sentiment</th>\n",
       "    </tr>\n",
       "  </thead>\n",
       "  <tbody>\n",
       "    <tr>\n",
       "      <th>0</th>\n",
       "      <td>Stop Pacifier Sucking without tears with Thumb...</td>\n",
       "      <td>All of my kids have cried non-stop when I trie...</td>\n",
       "      <td>5</td>\n",
       "      <td>1</td>\n",
       "    </tr>\n",
       "    <tr>\n",
       "      <th>1</th>\n",
       "      <td>Nature's Lullabies Second Year Sticker Calendar</td>\n",
       "      <td>We wanted to get something to keep track of ou...</td>\n",
       "      <td>5</td>\n",
       "      <td>1</td>\n",
       "    </tr>\n",
       "    <tr>\n",
       "      <th>2</th>\n",
       "      <td>Nature's Lullabies Second Year Sticker Calendar</td>\n",
       "      <td>My daughter had her 1st baby over a year ago. ...</td>\n",
       "      <td>5</td>\n",
       "      <td>1</td>\n",
       "    </tr>\n",
       "    <tr>\n",
       "      <th>3</th>\n",
       "      <td>Lamaze Peekaboo, I Love You</td>\n",
       "      <td>One of baby's first and favorite books, and it...</td>\n",
       "      <td>4</td>\n",
       "      <td>1</td>\n",
       "    </tr>\n",
       "    <tr>\n",
       "      <th>4</th>\n",
       "      <td>SoftPlay Peek-A-Boo Where's Elmo A Children's ...</td>\n",
       "      <td>Very cute interactive book! My son loves this ...</td>\n",
       "      <td>5</td>\n",
       "      <td>1</td>\n",
       "    </tr>\n",
       "  </tbody>\n",
       "</table>\n",
       "</div>"
      ],
      "text/plain": [
       "                                                name  \\\n",
       "0  Stop Pacifier Sucking without tears with Thumb...   \n",
       "1    Nature's Lullabies Second Year Sticker Calendar   \n",
       "2    Nature's Lullabies Second Year Sticker Calendar   \n",
       "3                        Lamaze Peekaboo, I Love You   \n",
       "4  SoftPlay Peek-A-Boo Where's Elmo A Children's ...   \n",
       "\n",
       "                                              review  rating  sentiment  \n",
       "0  All of my kids have cried non-stop when I trie...       5          1  \n",
       "1  We wanted to get something to keep track of ou...       5          1  \n",
       "2  My daughter had her 1st baby over a year ago. ...       5          1  \n",
       "3  One of baby's first and favorite books, and it...       4          1  \n",
       "4  Very cute interactive book! My son loves this ...       5          1  "
      ]
     },
     "execution_count": 6,
     "metadata": {},
     "output_type": "execute_result"
    }
   ],
   "source": [
    "amazon_data['sentiment'] = amazon_data['rating'].apply(lambda r: +1 if r>3 else -1)\n",
    "amazon_data.head()"
   ]
  },
  {
   "cell_type": "code",
   "execution_count": 7,
   "metadata": {
    "colab": {
     "base_uri": "https://localhost:8080/",
     "height": 195
    },
    "colab_type": "code",
    "id": "QSkyTu4qbN37",
    "outputId": "2fbc21b6-d46e-436e-e159-35bce1af0040"
   },
   "outputs": [
    {
     "data": {
      "text/html": [
       "<div>\n",
       "<style scoped>\n",
       "    .dataframe tbody tr th:only-of-type {\n",
       "        vertical-align: middle;\n",
       "    }\n",
       "\n",
       "    .dataframe tbody tr th {\n",
       "        vertical-align: top;\n",
       "    }\n",
       "\n",
       "    .dataframe thead th {\n",
       "        text-align: right;\n",
       "    }\n",
       "</style>\n",
       "<table border=\"1\" class=\"dataframe\">\n",
       "  <thead>\n",
       "    <tr style=\"text-align: right;\">\n",
       "      <th></th>\n",
       "      <th>review</th>\n",
       "      <th>sentiment</th>\n",
       "    </tr>\n",
       "  </thead>\n",
       "  <tbody>\n",
       "    <tr>\n",
       "      <th>0</th>\n",
       "      <td>All of my kids have cried non-stop when I trie...</td>\n",
       "      <td>1</td>\n",
       "    </tr>\n",
       "    <tr>\n",
       "      <th>1</th>\n",
       "      <td>We wanted to get something to keep track of ou...</td>\n",
       "      <td>1</td>\n",
       "    </tr>\n",
       "    <tr>\n",
       "      <th>2</th>\n",
       "      <td>My daughter had her 1st baby over a year ago. ...</td>\n",
       "      <td>1</td>\n",
       "    </tr>\n",
       "    <tr>\n",
       "      <th>3</th>\n",
       "      <td>One of baby's first and favorite books, and it...</td>\n",
       "      <td>1</td>\n",
       "    </tr>\n",
       "    <tr>\n",
       "      <th>4</th>\n",
       "      <td>Very cute interactive book! My son loves this ...</td>\n",
       "      <td>1</td>\n",
       "    </tr>\n",
       "  </tbody>\n",
       "</table>\n",
       "</div>"
      ],
      "text/plain": [
       "                                              review  sentiment\n",
       "0  All of my kids have cried non-stop when I trie...          1\n",
       "1  We wanted to get something to keep track of ou...          1\n",
       "2  My daughter had her 1st baby over a year ago. ...          1\n",
       "3  One of baby's first and favorite books, and it...          1\n",
       "4  Very cute interactive book! My son loves this ...          1"
      ]
     },
     "execution_count": 7,
     "metadata": {},
     "output_type": "execute_result"
    }
   ],
   "source": [
    "# Droping unwanted features to clean up space\n",
    "amazon_data = amazon_data.drop(columns = ['rating', 'name'])\n",
    "amazon_data.head()"
   ]
  },
  {
   "cell_type": "markdown",
   "metadata": {
    "colab_type": "text",
    "id": "AKllMkGJMnbN"
   },
   "source": [
    "The important words from the reviews are taked as a json file, so that those features can be used to calculate the sentiment"
   ]
  },
  {
   "cell_type": "code",
   "execution_count": 8,
   "metadata": {
    "colab": {
     "base_uri": "https://localhost:8080/",
     "height": 34
    },
    "colab_type": "code",
    "id": "BhSlEVHyOcPf",
    "outputId": "2b0ea907-993d-4dd0-eb4e-9e24f0e6c293"
   },
   "outputs": [
    {
     "name": "stdout",
     "output_type": "stream",
     "text": [
      "193 words imported from json\n"
     ]
    }
   ],
   "source": [
    "import json\n",
    "with open('Input/important_words.json', 'r') as f:\n",
    "    important_words = json.load(f)\n",
    "important_words = [str(s) for s in important_words]\n",
    "print(len(important_words), \"words imported from json\")"
   ]
  },
  {
   "cell_type": "code",
   "execution_count": 9,
   "metadata": {
    "colab": {
     "base_uri": "https://localhost:8080/",
     "height": 195
    },
    "colab_type": "code",
    "id": "PcB30OkUO48n",
    "outputId": "1d61f179-2b14-4e5e-d987-12e1a0b9cf1e"
   },
   "outputs": [
    {
     "data": {
      "text/html": [
       "<div>\n",
       "<style scoped>\n",
       "    .dataframe tbody tr th:only-of-type {\n",
       "        vertical-align: middle;\n",
       "    }\n",
       "\n",
       "    .dataframe tbody tr th {\n",
       "        vertical-align: top;\n",
       "    }\n",
       "\n",
       "    .dataframe thead th {\n",
       "        text-align: right;\n",
       "    }\n",
       "</style>\n",
       "<table border=\"1\" class=\"dataframe\">\n",
       "  <thead>\n",
       "    <tr style=\"text-align: right;\">\n",
       "      <th></th>\n",
       "      <th>sentiment</th>\n",
       "      <th>clean_review</th>\n",
       "    </tr>\n",
       "  </thead>\n",
       "  <tbody>\n",
       "    <tr>\n",
       "      <th>0</th>\n",
       "      <td>1</td>\n",
       "      <td>All of my kids have cried nonstop when I tried...</td>\n",
       "    </tr>\n",
       "    <tr>\n",
       "      <th>1</th>\n",
       "      <td>1</td>\n",
       "      <td>We wanted to get something to keep track of ou...</td>\n",
       "    </tr>\n",
       "    <tr>\n",
       "      <th>2</th>\n",
       "      <td>1</td>\n",
       "      <td>My daughter had her 1st baby over a year ago S...</td>\n",
       "    </tr>\n",
       "    <tr>\n",
       "      <th>3</th>\n",
       "      <td>1</td>\n",
       "      <td>One of babys first and favorite books and it i...</td>\n",
       "    </tr>\n",
       "    <tr>\n",
       "      <th>4</th>\n",
       "      <td>1</td>\n",
       "      <td>Very cute interactive book My son loves this b...</td>\n",
       "    </tr>\n",
       "  </tbody>\n",
       "</table>\n",
       "</div>"
      ],
      "text/plain": [
       "   sentiment                                       clean_review\n",
       "0          1  All of my kids have cried nonstop when I tried...\n",
       "1          1  We wanted to get something to keep track of ou...\n",
       "2          1  My daughter had her 1st baby over a year ago S...\n",
       "3          1  One of babys first and favorite books and it i...\n",
       "4          1  Very cute interactive book My son loves this b..."
      ]
     },
     "execution_count": 9,
     "metadata": {},
     "output_type": "execute_result"
    }
   ],
   "source": [
    "import string \n",
    "\n",
    "# Removing the punctuations from the reviews so there wont be any problem in retrieving the words\n",
    "def remove_punctuations(text):\n",
    "    translator = text.maketrans('', '', string.punctuation)\n",
    "    text = text.translate(translator)\n",
    "    return text\n",
    "\n",
    "amazon_data = amazon_data.dropna()\n",
    "amazon_data['clean_review'] = amazon_data['review'].apply(remove_punctuations)\n",
    "clean_data = amazon_data.drop('review', axis=1)\n",
    "clean_data.head()"
   ]
  },
  {
   "cell_type": "markdown",
   "metadata": {
    "colab_type": "text",
    "id": "ucc-8cxETV9S"
   },
   "source": [
    "## Encoding for classification\n",
    "Creating features for important words from the *clean_review* column so they \n",
    "can be used for creating the models."
   ]
  },
  {
   "cell_type": "code",
   "execution_count": 10,
   "metadata": {
    "colab": {
     "base_uri": "https://localhost:8080/",
     "height": 151
    },
    "colab_type": "code",
    "id": "8NAehKlaz6ZA",
    "outputId": "11c67e39-9793-4eb7-8edd-8a9543e8eb8c"
   },
   "outputs": [
    {
     "data": {
      "text/plain": [
       "(   sentiment  baby  ...  almost  either\n",
       " 0          1     0  ...       0       0\n",
       " 1          1     0  ...       0       0\n",
       " 2          1     1  ...       0       0\n",
       " 3          1     0  ...       0       0\n",
       " 4          1     0  ...       0       0\n",
       " \n",
       " [5 rows x 194 columns],\n",
       " (52831, 194))"
      ]
     },
     "execution_count": 10,
     "metadata": {},
     "output_type": "execute_result"
    }
   ],
   "source": [
    "for word in important_words:\n",
    "    clean_data[word] = clean_data['clean_review'].apply(lambda text: text.split().count(word))\n",
    "final_data = clean_data.drop('clean_review', 1)\n",
    "final_data.head(), final_data.shape"
   ]
  },
  {
   "cell_type": "markdown",
   "metadata": {
    "colab_type": "text",
    "id": "5jjqnU_9GXdD"
   },
   "source": [
    "## Splitting train and test data\n"
   ]
  },
  {
   "cell_type": "code",
   "execution_count": 11,
   "metadata": {
    "colab": {
     "base_uri": "https://localhost:8080/",
     "height": 34
    },
    "colab_type": "code",
    "id": "T03Ehs3oGrkw",
    "outputId": "48f52624-e0e2-4c75-c4c7-6658a4d0a6d0"
   },
   "outputs": [
    {
     "data": {
      "text/plain": [
       "((42264, 193), (10567, 193))"
      ]
     },
     "execution_count": 11,
     "metadata": {},
     "output_type": "execute_result"
    }
   ],
   "source": [
    "from sklearn.model_selection import train_test_split\n",
    "X = final_data[important_words]\n",
    "y = final_data['sentiment']\n",
    "train_X, test_X, train_y, test_y = train_test_split(X, y, test_size=0.2, random_state=1)\n",
    "train_X.shape, test_X.shape"
   ]
  },
  {
   "cell_type": "markdown",
   "metadata": {
    "colab_type": "text",
    "id": "fKdIoR4cCpNT"
   },
   "source": [
    "# Training models\n",
    "\n",
    "## Import libraries\n",
    "\n",
    "We are using the following algorithms for predicting the sentiment:\n",
    "\n",
    "\n",
    "*   [Logistic Regression](#logistic-regression)\n",
    "*   [Decision Tree](#decision-trees)\n",
    "*   [K-Nearest neighbors](#k-nearest-neighbors) \n",
    "*   [Support Vector Machine](#support-vector-machine)\n",
    "\n",
    "\n",
    "_Though decision trees are not a good model for calculation of more than 100 equally important features, we are just using it to see the difference in accuracy between other algorithms._"
   ]
  },
  {
   "cell_type": "code",
   "execution_count": 12,
   "metadata": {
    "colab": {},
    "colab_type": "code",
    "id": "v5V16HhdC6BY"
   },
   "outputs": [],
   "source": [
    "# Models\n",
    "from sklearn.model_selection import GridSearchCV\n",
    "from sklearn.linear_model import LogisticRegression\n",
    "from sklearn.tree import DecisionTreeClassifier\n",
    "from sklearn.neighbors import KNeighborsClassifier\n",
    "from sklearn.svm import SVC\n",
    "\n",
    "# Metrics\n",
    "from sklearn.metrics import confusion_matrix\n",
    "from sklearn.metrics import precision_score, recall_score, f1_score, accuracy_score"
   ]
  },
  {
   "cell_type": "markdown",
   "metadata": {
    "colab_type": "text",
    "id": "QcGKDQ2oIYAS"
   },
   "source": [
    "An **accuracy table** is created which holds the values of accuracies of all the models trained.This table will be revealed after training all the models, just to keep up the suspence.<br>\n",
    "A utility function is created to calculate the metrics for each model and add it to the accuracy table.\n",
    "\n"
   ]
  },
  {
   "cell_type": "code",
   "execution_count": 13,
   "metadata": {
    "colab": {},
    "colab_type": "code",
    "id": "kjUuq7uqIOR9"
   },
   "outputs": [],
   "source": [
    "accuracy_table = pd.DataFrame(columns=['precision_score','recall_score', 'f1_score', 'accuracy_score'])\n",
    "\n",
    "def append_accuracy(model, prediction, true_val, label):\n",
    "    acc = []\n",
    "    acc.append(precision_score(prediction, true_val))\n",
    "    acc.append(recall_score(prediction, true_val))\n",
    "    acc.append(f1_score(prediction, true_val))\n",
    "    acc.append(accuracy_score(prediction, true_val))\n",
    "    accuracy_table.loc[label] = acc"
   ]
  },
  {
   "cell_type": "markdown",
   "metadata": {
    "colab_type": "text",
    "id": "VA-wDhHYGHZK"
   },
   "source": [
    "## Logistic Regression\n"
   ]
  },
  {
   "cell_type": "code",
   "execution_count": 14,
   "metadata": {
    "colab": {
     "base_uri": "https://localhost:8080/",
     "height": 50
    },
    "colab_type": "code",
    "id": "P7XsosnFI_y2",
    "outputId": "36c6744b-ce0f-4958-e0cf-e151d529da27"
   },
   "outputs": [
    {
     "name": "stdout",
     "output_type": "stream",
     "text": [
      "Chosen parameter : {'C': 0.1}\n",
      "Best cross-validation score :0.792\n"
     ]
    }
   ],
   "source": [
    "params = {'C': [0.001, 0.01, 0.1, 1, 10]}\n",
    "# This also applies 10 fold cross-validation\n",
    "model = GridSearchCV(LogisticRegression(solver='liblinear', random_state=1),param_grid=params, cv=10)\n",
    "model.fit(train_X, train_y)\n",
    "\n",
    "print(\"Chosen parameter :\", model.best_params_)\n",
    "print(\"Best cross-validation score :{:.3f}\".format(model.best_score_))"
   ]
  },
  {
   "cell_type": "code",
   "execution_count": 15,
   "metadata": {
    "colab": {
     "base_uri": "https://localhost:8080/",
     "height": 50
    },
    "colab_type": "code",
    "id": "vTQz8OXTV9fd",
    "outputId": "b6818611-97e0-49f1-9d7e-a2a61ec9532a"
   },
   "outputs": [
    {
     "data": {
      "text/plain": [
       "array([[4153, 1156],\n",
       "       [1075, 4183]], dtype=int64)"
      ]
     },
     "execution_count": 15,
     "metadata": {},
     "output_type": "execute_result"
    }
   ],
   "source": [
    "# finding the model accuracy and adding it to the table\n",
    "predictions = model.predict(test_X)\n",
    "append_accuracy(model, predictions, test_y, \"Logistic Regression\")\n",
    "cm_log_reg = confusion_matrix(predictions, test_y)\n",
    "cm_log_reg"
   ]
  },
  {
   "cell_type": "markdown",
   "metadata": {
    "colab_type": "text",
    "id": "4gm151_9WmOa"
   },
   "source": [
    "## Decision Trees"
   ]
  },
  {
   "cell_type": "code",
   "execution_count": 16,
   "metadata": {
    "colab": {
     "base_uri": "https://localhost:8080/",
     "height": 50
    },
    "colab_type": "code",
    "id": "U98C-lIiWzha",
    "outputId": "19dafdda-4f36-4bf1-88f8-4f8c70fa3fae"
   },
   "outputs": [
    {
     "name": "stdout",
     "output_type": "stream",
     "text": [
      "Chosen parameter : {'max_leaf_nodes': 250}\n",
      "Best accuracy score :0.742\n"
     ]
    }
   ],
   "source": [
    "params = {'max_leaf_nodes': [100, 200, 250, 300]}\n",
    "model = GridSearchCV(DecisionTreeClassifier(random_state=1), param_grid=params)\n",
    "model.fit(train_X, train_y)\n",
    "\n",
    "print(\"Chosen parameter :\", model.best_params_)\n",
    "print(\"Best accuracy score :{:.3f}\".format(model.best_score_))"
   ]
  },
  {
   "cell_type": "code",
   "execution_count": 17,
   "metadata": {
    "colab": {
     "base_uri": "https://localhost:8080/",
     "height": 50
    },
    "colab_type": "code",
    "id": "L0Qd2YnKYgg5",
    "outputId": "19790fe3-6c41-4e92-81b1-1b825a1630d2"
   },
   "outputs": [
    {
     "data": {
      "text/plain": [
       "array([[4051, 1443],\n",
       "       [1177, 3896]], dtype=int64)"
      ]
     },
     "execution_count": 17,
     "metadata": {},
     "output_type": "execute_result"
    }
   ],
   "source": [
    "predictions = model.predict(test_X)\n",
    "append_accuracy(model, predictions, test_y, \"Decision Tree\")\n",
    "cm_dec_tree = confusion_matrix(predictions, test_y)\n",
    "cm_dec_tree"
   ]
  },
  {
   "cell_type": "markdown",
   "metadata": {
    "colab_type": "text",
    "id": "53YNk0fTY551"
   },
   "source": [
    "## K-Nearest Neighbors"
   ]
  },
  {
   "cell_type": "code",
   "execution_count": 18,
   "metadata": {
    "colab": {
     "base_uri": "https://localhost:8080/",
     "height": 34
    },
    "colab_type": "code",
    "id": "tan6ieXEY5Yk",
    "outputId": "08d29e6e-c4b5-46bd-ab4a-309217ba7e9f"
   },
   "outputs": [
    {
     "name": "stdout",
     "output_type": "stream",
     "text": [
      "Model Created\n"
     ]
    }
   ],
   "source": [
    "model = KNeighborsClassifier(n_neighbors=9)\n",
    "model.fit(train_X, train_y)\n",
    "\n",
    "print(\"Model Created\")"
   ]
  },
  {
   "cell_type": "markdown",
   "metadata": {
    "colab_type": "text",
    "id": "rf0kscPaiIzn"
   },
   "source": [
    "Prediction of the KNN model takes a long time since this should calculate the distances between each points and find K neighbors around it."
   ]
  },
  {
   "cell_type": "code",
   "execution_count": 19,
   "metadata": {
    "colab": {
     "base_uri": "https://localhost:8080/",
     "height": 50
    },
    "colab_type": "code",
    "id": "Hya5ozDhZtul",
    "outputId": "b272725f-c0aa-46de-bdea-5456e16fdd90"
   },
   "outputs": [
    {
     "data": {
      "text/plain": [
       "array([[3218, 1328],\n",
       "       [2010, 4011]], dtype=int64)"
      ]
     },
     "execution_count": 19,
     "metadata": {},
     "output_type": "execute_result"
    }
   ],
   "source": [
    "predictions = model.predict(test_X)\n",
    "append_accuracy(model, predictions, test_y, \"K-nearest neighbors\")\n",
    "cm_KNN = confusion_matrix(predictions, test_y)\n",
    "cm_KNN"
   ]
  },
  {
   "cell_type": "markdown",
   "metadata": {
    "colab_type": "text",
    "id": "p49RnPc-fZEs"
   },
   "source": [
    "## Support Vector Machine"
   ]
  },
  {
   "cell_type": "code",
   "execution_count": 20,
   "metadata": {
    "colab": {},
    "colab_type": "code",
    "id": "_Xe5JUJQoX9q"
   },
   "outputs": [],
   "source": [
    "from sklearn.preprocessing import MinMaxScaler\n",
    "scaling = MinMaxScaler(feature_range=(-1,1)).fit(train_X)\n",
    "train_X = scaling.transform(train_X)\n",
    "test_X = scaling.transform(test_X)"
   ]
  },
  {
   "cell_type": "markdown",
   "metadata": {
    "colab_type": "text",
    "id": "wA03SmTb507x"
   },
   "source": [
    "Training this model might take some time. We are normalising the data so that the values are between [-1, 1]. *Just sit back and relax.* ;)"
   ]
  },
  {
   "cell_type": "code",
   "execution_count": 21,
   "metadata": {
    "colab": {
     "base_uri": "https://localhost:8080/",
     "height": 34
    },
    "colab_type": "code",
    "id": "QmXWZ6Hko216",
    "outputId": "33f0a148-07d6-4598-8302-aa279e877a11"
   },
   "outputs": [
    {
     "name": "stdout",
     "output_type": "stream",
     "text": [
      "Model created\n"
     ]
    }
   ],
   "source": [
    "model = SVC(kernel='rbf', gamma='auto', random_state=1)\n",
    "model.fit(train_X, train_y)\n",
    "\n",
    "print(\"Model created\")"
   ]
  },
  {
   "cell_type": "code",
   "execution_count": 22,
   "metadata": {
    "colab": {
     "base_uri": "https://localhost:8080/",
     "height": 50
    },
    "colab_type": "code",
    "id": "JWsFDSWiksZz",
    "outputId": "36646c1e-acd4-4245-bd39-b60600f1831c"
   },
   "outputs": [
    {
     "data": {
      "text/plain": [
       "array([[3837, 1017],\n",
       "       [1391, 4322]], dtype=int64)"
      ]
     },
     "execution_count": 22,
     "metadata": {},
     "output_type": "execute_result"
    }
   ],
   "source": [
    "predictions = model.predict(test_X)\n",
    "append_accuracy(model, predictions, test_y, \"Support vector machine\")\n",
    "cm_SVM = confusion_matrix(predictions, test_y)\n",
    "cm_SVM"
   ]
  },
  {
   "cell_type": "markdown",
   "metadata": {
    "colab_type": "text",
    "id": "4G3JTFSmxV2g"
   },
   "source": [
    "# Final Accuracy table\n",
    "\n",
    "Let's reveal the accuracy table from all the models calculated above and let's see which model performs the best on the test data."
   ]
  },
  {
   "cell_type": "code",
   "execution_count": 23,
   "metadata": {
    "colab": {
     "base_uri": "https://localhost:8080/",
     "height": 166
    },
    "colab_type": "code",
    "id": "avReWz6I7DhK",
    "outputId": "9bae338d-709a-4b2d-ea26-96d618b4a771"
   },
   "outputs": [
    {
     "data": {
      "text/html": [
       "<div>\n",
       "<style scoped>\n",
       "    .dataframe tbody tr th:only-of-type {\n",
       "        vertical-align: middle;\n",
       "    }\n",
       "\n",
       "    .dataframe tbody tr th {\n",
       "        vertical-align: top;\n",
       "    }\n",
       "\n",
       "    .dataframe thead th {\n",
       "        text-align: right;\n",
       "    }\n",
       "</style>\n",
       "<table border=\"1\" class=\"dataframe\">\n",
       "  <thead>\n",
       "    <tr style=\"text-align: right;\">\n",
       "      <th></th>\n",
       "      <th>precision_score</th>\n",
       "      <th>recall_score</th>\n",
       "      <th>f1_score</th>\n",
       "      <th>accuracy_score</th>\n",
       "    </tr>\n",
       "  </thead>\n",
       "  <tbody>\n",
       "    <tr>\n",
       "      <th>Logistic Regression</th>\n",
       "      <td>0.783480</td>\n",
       "      <td>0.795550</td>\n",
       "      <td>0.789469</td>\n",
       "      <td>0.788871</td>\n",
       "    </tr>\n",
       "    <tr>\n",
       "      <th>Decision Tree</th>\n",
       "      <td>0.729725</td>\n",
       "      <td>0.767987</td>\n",
       "      <td>0.748367</td>\n",
       "      <td>0.752058</td>\n",
       "    </tr>\n",
       "    <tr>\n",
       "      <th>K-nearest neighbors</th>\n",
       "      <td>0.751264</td>\n",
       "      <td>0.666168</td>\n",
       "      <td>0.706162</td>\n",
       "      <td>0.684111</td>\n",
       "    </tr>\n",
       "    <tr>\n",
       "      <th>Support vector machine</th>\n",
       "      <td>0.809515</td>\n",
       "      <td>0.756520</td>\n",
       "      <td>0.782121</td>\n",
       "      <td>0.772121</td>\n",
       "    </tr>\n",
       "  </tbody>\n",
       "</table>\n",
       "</div>"
      ],
      "text/plain": [
       "                        precision_score  recall_score  f1_score  \\\n",
       "Logistic Regression            0.783480      0.795550  0.789469   \n",
       "Decision Tree                  0.729725      0.767987  0.748367   \n",
       "K-nearest neighbors            0.751264      0.666168  0.706162   \n",
       "Support vector machine         0.809515      0.756520  0.782121   \n",
       "\n",
       "                        accuracy_score  \n",
       "Logistic Regression           0.788871  \n",
       "Decision Tree                 0.752058  \n",
       "K-nearest neighbors           0.684111  \n",
       "Support vector machine        0.772121  "
      ]
     },
     "execution_count": 23,
     "metadata": {},
     "output_type": "execute_result"
    }
   ],
   "source": [
    "accuracy_table"
   ]
  },
  {
   "cell_type": "code",
   "execution_count": 24,
   "metadata": {
    "colab": {
     "base_uri": "https://localhost:8080/",
     "height": 392
    },
    "colab_type": "code",
    "id": "jmmZi5arCGpF",
    "outputId": "0d2350ec-8151-4bc8-9d72-bc9947b1bd47"
   },
   "outputs": [
    {
     "data": {
      "text/plain": [
       "<matplotlib.axes._subplots.AxesSubplot at 0x106e8a50>"
      ]
     },
     "execution_count": 24,
     "metadata": {},
     "output_type": "execute_result"
    },
    {
     "data": {
      "image/png": "[encoded data removed]",
      "text/plain": [
       "<Figure size 432x288 with 1 Axes>"
      ]
     },
     "metadata": {
      "needs_background": "light"
     },
     "output_type": "display_data"
    }
   ],
   "source": [
    "accuracy_table.plot.bar()"
   ]
  },
  {
   "cell_type": "markdown",
   "metadata": {
    "colab_type": "text",
    "id": "0THuVrZG7H5T"
   },
   "source": [
    "## Inference\n",
    "\n",
    "### Observations:\n",
    "\n",
    "1.   Surpricingly K-nearest neighbor performs worst among all. It's performance may be optimised by tuning it's hyperparameters, which is not done here because it takes lot of time for prediction.\n",
    "2.   It is clear that decision trees are not good for sentiment analysis, since decision trees cannot make a good model with lots of features with equal importance.\n",
    "3.   Though SVM should do better for high dimensional data, logistic regression performs better in this dataset. \n",
    "\n",
    "Thus, we can infer that the model **Logistic Regression** does the best on the test data, followed by **SVM**.\n",
    "\n",
    "\n",
    "---\n",
    "\n",
    "\n"
   ]
  }
 ],
 "metadata": {
  "colab": {
   "authorship_tag": "ABX9TyNc/2EjkjpET3lgQWUMqoNc",
   "collapsed_sections": [],
   "include_colab_link": true,
   "name": "Sentiment analysis.ipynb",
   "provenance": []
  },
  "kernelspec": {
   "display_name": "Python 3",
   "language": "python",
   "name": "python3"
  },
  "language_info": {
   "codemirror_mode": {
    "name": "ipython",
    "version": 3
   },
   "file_extension": ".py",
   "mimetype": "text/x-python",
   "name": "python",
   "nbconvert_exporter": "python",
   "pygments_lexer": "ipython3",
   "version": "3.7.4"
  }
 },
 "nbformat": 4,
 "nbformat_minor": 1
}
