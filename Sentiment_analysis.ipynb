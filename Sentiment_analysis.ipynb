{
  "nbformat": 4,
  "nbformat_minor": 0,
  "metadata": {
    "colab": {
      "name": "Sentiment analysis.ipynb",
      "provenance": [],
      "collapsed_sections": [],
      "authorship_tag": "ABX9TyNc/2EjkjpET3lgQWUMqoNc",
      "include_colab_link": true
    },
    "kernelspec": {
      "name": "python3",
      "display_name": "Python 3"
    }
  },
  "cells": [
    {
      "cell_type": "markdown",
      "metadata": {
        "id": "view-in-github",
        "colab_type": "text"
      },
      "source": [
        "<a href=\"https://colab.research.google.com/github/Subikesh/Sentiment-Analysis/blob/master/Sentiment_analysis.ipynb\" target=\"_parent\"><img src=\"https://colab.research.google.com/assets/colab-badge.svg\" alt=\"Open In Colab\"/></a>"
      ]
    },
    {
      "cell_type": "markdown",
      "metadata": {
        "id": "BsJJ_H6eQm3V",
        "colab_type": "text"
      },
      "source": [
        "# Sentiment Analysis\n",
        "\n",
        "In this project we'll get the dataset containing the reviews from amazon for baby products and their corresponding ratings given by the users. \n",
        "We will clean the unstructured reviews to structured data by One-hot encoding.\n",
        "We will train many classification models on the dataset and analyse the sentiment for each reviews.\n",
        "And finally, we will find the best model by creating an accuracy table."
      ]
    },
    {
      "cell_type": "code",
      "metadata": {
        "id": "24wEk-igTEcN",
        "colab_type": "code",
        "colab": {}
      },
      "source": [
        "import pandas as pd\n",
        "import numpy as np\n",
        "\n",
        "pd.set_option('display.max_columns',5)"
      ],
      "execution_count": 0,
      "outputs": []
    },
    {
      "cell_type": "markdown",
      "metadata": {
        "id": "-C9DLXcCSzZ3",
        "colab_type": "text"
      },
      "source": [
        "# Loading Data"
      ]
    },
    {
      "cell_type": "code",
      "metadata": {
        "id": "EX80Iwf2OpWS",
        "colab_type": "code",
        "outputId": "04fc8af5-07e2-45c8-fe7d-0bc23d765a14",
        "colab": {
          "base_uri": "https://localhost:8080/",
          "height": 34
        }
      },
      "source": [
        "from google.colab import drive\n",
        "drive.mount('/content/gdrive')"
      ],
      "execution_count": 2,
      "outputs": [
        {
          "output_type": "stream",
          "text": [
            "Drive already mounted at /content/gdrive; to attempt to forcibly remount, call drive.mount(\"/content/gdrive\", force_remount=True).\n"
          ],
          "name": "stdout"
        }
      ]
    },
    {
      "cell_type": "markdown",
      "metadata": {
        "id": "RzRoMHWAoC6N",
        "colab_type": "text"
      },
      "source": [
        "The dataset amazon-baby.csv contains a larger dataset than the one used here. This is used because the algorithms takes lot of time in the larger dataset."
      ]
    },
    {
      "cell_type": "code",
      "metadata": {
        "id": "8sI-g0ytS7Sw",
        "colab_type": "code",
        "outputId": "1d508095-7105-423a-dace-f788da1806e9",
        "colab": {
          "base_uri": "https://localhost:8080/",
          "height": 195
        }
      },
      "source": [
        "# amazon_data = pd.read_csv('/content/gdrive/My Drive/colab_input/amazon_baby.csv')\n",
        "amazon_data = pd.read_csv('/content/gdrive/My Drive/colab_input/amazon_baby_subset.csv')\n",
        "amazon_data.head()"
      ],
      "execution_count": 3,
      "outputs": [
        {
          "output_type": "execute_result",
          "data": {
            "text/html": [
              "<div>\n",
              "<style scoped>\n",
              "    .dataframe tbody tr th:only-of-type {\n",
              "        vertical-align: middle;\n",
              "    }\n",
              "\n",
              "    .dataframe tbody tr th {\n",
              "        vertical-align: top;\n",
              "    }\n",
              "\n",
              "    .dataframe thead th {\n",
              "        text-align: right;\n",
              "    }\n",
              "</style>\n",
              "<table border=\"1\" class=\"dataframe\">\n",
              "  <thead>\n",
              "    <tr style=\"text-align: right;\">\n",
              "      <th></th>\n",
              "      <th>name</th>\n",
              "      <th>review</th>\n",
              "      <th>rating</th>\n",
              "      <th>sentiment</th>\n",
              "    </tr>\n",
              "  </thead>\n",
              "  <tbody>\n",
              "    <tr>\n",
              "      <th>0</th>\n",
              "      <td>Stop Pacifier Sucking without tears with Thumb...</td>\n",
              "      <td>All of my kids have cried non-stop when I trie...</td>\n",
              "      <td>5</td>\n",
              "      <td>1</td>\n",
              "    </tr>\n",
              "    <tr>\n",
              "      <th>1</th>\n",
              "      <td>Nature's Lullabies Second Year Sticker Calendar</td>\n",
              "      <td>We wanted to get something to keep track of ou...</td>\n",
              "      <td>5</td>\n",
              "      <td>1</td>\n",
              "    </tr>\n",
              "    <tr>\n",
              "      <th>2</th>\n",
              "      <td>Nature's Lullabies Second Year Sticker Calendar</td>\n",
              "      <td>My daughter had her 1st baby over a year ago. ...</td>\n",
              "      <td>5</td>\n",
              "      <td>1</td>\n",
              "    </tr>\n",
              "    <tr>\n",
              "      <th>3</th>\n",
              "      <td>Lamaze Peekaboo, I Love You</td>\n",
              "      <td>One of baby's first and favorite books, and it...</td>\n",
              "      <td>4</td>\n",
              "      <td>1</td>\n",
              "    </tr>\n",
              "    <tr>\n",
              "      <th>4</th>\n",
              "      <td>SoftPlay Peek-A-Boo Where's Elmo A Children's ...</td>\n",
              "      <td>Very cute interactive book! My son loves this ...</td>\n",
              "      <td>5</td>\n",
              "      <td>1</td>\n",
              "    </tr>\n",
              "  </tbody>\n",
              "</table>\n",
              "</div>"
            ],
            "text/plain": [
              "                                                name  \\\n",
              "0  Stop Pacifier Sucking without tears with Thumb...   \n",
              "1    Nature's Lullabies Second Year Sticker Calendar   \n",
              "2    Nature's Lullabies Second Year Sticker Calendar   \n",
              "3                        Lamaze Peekaboo, I Love You   \n",
              "4  SoftPlay Peek-A-Boo Where's Elmo A Children's ...   \n",
              "\n",
              "                                              review  rating  sentiment  \n",
              "0  All of my kids have cried non-stop when I trie...       5          1  \n",
              "1  We wanted to get something to keep track of ou...       5          1  \n",
              "2  My daughter had her 1st baby over a year ago. ...       5          1  \n",
              "3  One of baby's first and favorite books, and it...       4          1  \n",
              "4  Very cute interactive book! My son loves this ...       5          1  "
            ]
          },
          "metadata": {
            "tags": []
          },
          "execution_count": 3
        }
      ]
    },
    {
      "cell_type": "markdown",
      "metadata": {
        "id": "DojRszY60mCZ",
        "colab_type": "text"
      },
      "source": [
        "Number of reviews for each rating in the dataset is shown below. Since this is a compact version of the original dataset, all the reviews with rating 3 are removed."
      ]
    },
    {
      "cell_type": "code",
      "metadata": {
        "id": "vGPVshp-Vxtc",
        "colab_type": "code",
        "outputId": "cb58f2d4-970f-4b12-9265-3203bcbbe607",
        "colab": {
          "base_uri": "https://localhost:8080/",
          "height": 293
        }
      },
      "source": [
        "amazon_data.groupby('rating').size().plot.bar()"
      ],
      "execution_count": 4,
      "outputs": [
        {
          "output_type": "execute_result",
          "data": {
            "text/plain": [
              "<matplotlib.axes._subplots.AxesSubplot at 0x7f66acb46240>"
            ]
          },
          "metadata": {
            "tags": []
          },
          "execution_count": 4
        },
        {
          "output_type": "display_data",
          "data": {
            "image/png": "[encoded data removed]",
            "text/plain": [
              "<Figure size 432x288 with 1 Axes>"
            ]
          },
          "metadata": {
            "tags": [],
            "needs_background": "light"
          }
        }
      ]
    },
    {
      "cell_type": "markdown",
      "metadata": {
        "id": "eCWRsVZnZWpw",
        "colab_type": "text"
      },
      "source": [
        "## Cleaning Data\n",
        "\n",
        "Let's create a sentiment column with sentiments as per the ratings given and remove all the reviews with rating 3 because rating with 3 stars cannot be considered as positive or negative review."
      ]
    },
    {
      "cell_type": "code",
      "metadata": {
        "id": "7GYysATIaDKK",
        "colab_type": "code",
        "outputId": "5a47d761-6c41-4da4-e61d-01ef61753a3e",
        "colab": {
          "base_uri": "https://localhost:8080/",
          "height": 50
        }
      },
      "source": [
        "print('Data before droping ', amazon_data.shape)\n",
        "amazon_data = amazon_data[amazon_data['rating'] != 3]\n",
        "print(\"Data after droping rows\", amazon_data.shape)"
      ],
      "execution_count": 5,
      "outputs": [
        {
          "output_type": "stream",
          "text": [
            "Data before droping  (53072, 4)\n",
            "Data after droping rows (53072, 4)\n"
          ],
          "name": "stdout"
        }
      ]
    },
    {
      "cell_type": "code",
      "metadata": {
        "id": "yHo0BFxIalj3",
        "colab_type": "code",
        "outputId": "dba77825-2846-4882-bc43-185b713a628e",
        "colab": {
          "base_uri": "https://localhost:8080/",
          "height": 195
        }
      },
      "source": [
        "amazon_data['sentiment'] = amazon_data['rating'].apply(lambda r: +1 if r>3 else -1)\n",
        "amazon_data.head()"
      ],
      "execution_count": 6,
      "outputs": [
        {
          "output_type": "execute_result",
          "data": {
            "text/html": [
              "<div>\n",
              "<style scoped>\n",
              "    .dataframe tbody tr th:only-of-type {\n",
              "        vertical-align: middle;\n",
              "    }\n",
              "\n",
              "    .dataframe tbody tr th {\n",
              "        vertical-align: top;\n",
              "    }\n",
              "\n",
              "    .dataframe thead th {\n",
              "        text-align: right;\n",
              "    }\n",
              "</style>\n",
              "<table border=\"1\" class=\"dataframe\">\n",
              "  <thead>\n",
              "    <tr style=\"text-align: right;\">\n",
              "      <th></th>\n",
              "      <th>name</th>\n",
              "      <th>review</th>\n",
              "      <th>rating</th>\n",
              "      <th>sentiment</th>\n",
              "    </tr>\n",
              "  </thead>\n",
              "  <tbody>\n",
              "    <tr>\n",
              "      <th>0</th>\n",
              "      <td>Stop Pacifier Sucking without tears with Thumb...</td>\n",
              "      <td>All of my kids have cried non-stop when I trie...</td>\n",
              "      <td>5</td>\n",
              "      <td>1</td>\n",
              "    </tr>\n",
              "    <tr>\n",
              "      <th>1</th>\n",
              "      <td>Nature's Lullabies Second Year Sticker Calendar</td>\n",
              "      <td>We wanted to get something to keep track of ou...</td>\n",
              "      <td>5</td>\n",
              "      <td>1</td>\n",
              "    </tr>\n",
              "    <tr>\n",
              "      <th>2</th>\n",
              "      <td>Nature's Lullabies Second Year Sticker Calendar</td>\n",
              "      <td>My daughter had her 1st baby over a year ago. ...</td>\n",
              "      <td>5</td>\n",
              "      <td>1</td>\n",
              "    </tr>\n",
              "    <tr>\n",
              "      <th>3</th>\n",
              "      <td>Lamaze Peekaboo, I Love You</td>\n",
              "      <td>One of baby's first and favorite books, and it...</td>\n",
              "      <td>4</td>\n",
              "      <td>1</td>\n",
              "    </tr>\n",
              "    <tr>\n",
              "      <th>4</th>\n",
              "      <td>SoftPlay Peek-A-Boo Where's Elmo A Children's ...</td>\n",
              "      <td>Very cute interactive book! My son loves this ...</td>\n",
              "      <td>5</td>\n",
              "      <td>1</td>\n",
              "    </tr>\n",
              "  </tbody>\n",
              "</table>\n",
              "</div>"
            ],
            "text/plain": [
              "                                                name  \\\n",
              "0  Stop Pacifier Sucking without tears with Thumb...   \n",
              "1    Nature's Lullabies Second Year Sticker Calendar   \n",
              "2    Nature's Lullabies Second Year Sticker Calendar   \n",
              "3                        Lamaze Peekaboo, I Love You   \n",
              "4  SoftPlay Peek-A-Boo Where's Elmo A Children's ...   \n",
              "\n",
              "                                              review  rating  sentiment  \n",
              "0  All of my kids have cried non-stop when I trie...       5          1  \n",
              "1  We wanted to get something to keep track of ou...       5          1  \n",
              "2  My daughter had her 1st baby over a year ago. ...       5          1  \n",
              "3  One of baby's first and favorite books, and it...       4          1  \n",
              "4  Very cute interactive book! My son loves this ...       5          1  "
            ]
          },
          "metadata": {
            "tags": []
          },
          "execution_count": 6
        }
      ]
    },
    {
      "cell_type": "code",
      "metadata": {
        "id": "QSkyTu4qbN37",
        "colab_type": "code",
        "outputId": "2fbc21b6-d46e-436e-e159-35bce1af0040",
        "colab": {
          "base_uri": "https://localhost:8080/",
          "height": 195
        }
      },
      "source": [
        "# Droping unwanted features to clean up space\n",
        "amazon_data = amazon_data.drop(columns = ['rating', 'name'])\n",
        "amazon_data.head()"
      ],
      "execution_count": 7,
      "outputs": [
        {
          "output_type": "execute_result",
          "data": {
            "text/html": [
              "<div>\n",
              "<style scoped>\n",
              "    .dataframe tbody tr th:only-of-type {\n",
              "        vertical-align: middle;\n",
              "    }\n",
              "\n",
              "    .dataframe tbody tr th {\n",
              "        vertical-align: top;\n",
              "    }\n",
              "\n",
              "    .dataframe thead th {\n",
              "        text-align: right;\n",
              "    }\n",
              "</style>\n",
              "<table border=\"1\" class=\"dataframe\">\n",
              "  <thead>\n",
              "    <tr style=\"text-align: right;\">\n",
              "      <th></th>\n",
              "      <th>review</th>\n",
              "      <th>sentiment</th>\n",
              "    </tr>\n",
              "  </thead>\n",
              "  <tbody>\n",
              "    <tr>\n",
              "      <th>0</th>\n",
              "      <td>All of my kids have cried non-stop when I trie...</td>\n",
              "      <td>1</td>\n",
              "    </tr>\n",
              "    <tr>\n",
              "      <th>1</th>\n",
              "      <td>We wanted to get something to keep track of ou...</td>\n",
              "      <td>1</td>\n",
              "    </tr>\n",
              "    <tr>\n",
              "      <th>2</th>\n",
              "      <td>My daughter had her 1st baby over a year ago. ...</td>\n",
              "      <td>1</td>\n",
              "    </tr>\n",
              "    <tr>\n",
              "      <th>3</th>\n",
              "      <td>One of baby's first and favorite books, and it...</td>\n",
              "      <td>1</td>\n",
              "    </tr>\n",
              "    <tr>\n",
              "      <th>4</th>\n",
              "      <td>Very cute interactive book! My son loves this ...</td>\n",
              "      <td>1</td>\n",
              "    </tr>\n",
              "  </tbody>\n",
              "</table>\n",
              "</div>"
            ],
            "text/plain": [
              "                                              review  sentiment\n",
              "0  All of my kids have cried non-stop when I trie...          1\n",
              "1  We wanted to get something to keep track of ou...          1\n",
              "2  My daughter had her 1st baby over a year ago. ...          1\n",
              "3  One of baby's first and favorite books, and it...          1\n",
              "4  Very cute interactive book! My son loves this ...          1"
            ]
          },
          "metadata": {
            "tags": []
          },
          "execution_count": 7
        }
      ]
    },
    {
      "cell_type": "markdown",
      "metadata": {
        "id": "AKllMkGJMnbN",
        "colab_type": "text"
      },
      "source": [
        "The important words from the reviews are taked as a json file, so that those features can be used to calculate the sentiment"
      ]
    },
    {
      "cell_type": "code",
      "metadata": {
        "id": "BhSlEVHyOcPf",
        "colab_type": "code",
        "outputId": "2b0ea907-993d-4dd0-eb4e-9e24f0e6c293",
        "colab": {
          "base_uri": "https://localhost:8080/",
          "height": 34
        }
      },
      "source": [
        "import json\n",
        "with open('/content/gdrive/My Drive/colab_input/important_words.json', 'r') as f:\n",
        "    important_words = json.load(f)\n",
        "important_words = [str(s) for s in important_words]\n",
        "print(len(important_words), \"words imported from json\")"
      ],
      "execution_count": 8,
      "outputs": [
        {
          "output_type": "stream",
          "text": [
            "193 words imported from json\n"
          ],
          "name": "stdout"
        }
      ]
    },
    {
      "cell_type": "code",
      "metadata": {
        "id": "PcB30OkUO48n",
        "colab_type": "code",
        "outputId": "1d61f179-2b14-4e5e-d987-12e1a0b9cf1e",
        "colab": {
          "base_uri": "https://localhost:8080/",
          "height": 195
        }
      },
      "source": [
        "import string \n",
        "\n",
        "# Removing the punctuations from the reviews so there wont be any problem in retrieving the words\n",
        "def remove_punctuations(text):\n",
        "    translator = text.maketrans('', '', string.punctuation)\n",
        "    text = text.translate(translator)\n",
        "    return text\n",
        "\n",
        "amazon_data = amazon_data.dropna()\n",
        "amazon_data['clean_review'] = amazon_data['review'].apply(remove_punctuations)\n",
        "clean_data = amazon_data.drop('review', axis=1)\n",
        "clean_data.head()"
      ],
      "execution_count": 9,
      "outputs": [
        {
          "output_type": "execute_result",
          "data": {
            "text/html": [
              "<div>\n",
              "<style scoped>\n",
              "    .dataframe tbody tr th:only-of-type {\n",
              "        vertical-align: middle;\n",
              "    }\n",
              "\n",
              "    .dataframe tbody tr th {\n",
              "        vertical-align: top;\n",
              "    }\n",
              "\n",
              "    .dataframe thead th {\n",
              "        text-align: right;\n",
              "    }\n",
              "</style>\n",
              "<table border=\"1\" class=\"dataframe\">\n",
              "  <thead>\n",
              "    <tr style=\"text-align: right;\">\n",
              "      <th></th>\n",
              "      <th>sentiment</th>\n",
              "      <th>clean_review</th>\n",
              "    </tr>\n",
              "  </thead>\n",
              "  <tbody>\n",
              "    <tr>\n",
              "      <th>0</th>\n",
              "      <td>1</td>\n",
              "      <td>All of my kids have cried nonstop when I tried...</td>\n",
              "    </tr>\n",
              "    <tr>\n",
              "      <th>1</th>\n",
              "      <td>1</td>\n",
              "      <td>We wanted to get something to keep track of ou...</td>\n",
              "    </tr>\n",
              "    <tr>\n",
              "      <th>2</th>\n",
              "      <td>1</td>\n",
              "      <td>My daughter had her 1st baby over a year ago S...</td>\n",
              "    </tr>\n",
              "    <tr>\n",
              "      <th>3</th>\n",
              "      <td>1</td>\n",
              "      <td>One of babys first and favorite books and it i...</td>\n",
              "    </tr>\n",
              "    <tr>\n",
              "      <th>4</th>\n",
              "      <td>1</td>\n",
              "      <td>Very cute interactive book My son loves this b...</td>\n",
              "    </tr>\n",
              "  </tbody>\n",
              "</table>\n",
              "</div>"
            ],
            "text/plain": [
              "   sentiment                                       clean_review\n",
              "0          1  All of my kids have cried nonstop when I tried...\n",
              "1          1  We wanted to get something to keep track of ou...\n",
              "2          1  My daughter had her 1st baby over a year ago S...\n",
              "3          1  One of babys first and favorite books and it i...\n",
              "4          1  Very cute interactive book My son loves this b..."
            ]
          },
          "metadata": {
            "tags": []
          },
          "execution_count": 9
        }
      ]
    },
    {
      "cell_type": "markdown",
      "metadata": {
        "id": "ucc-8cxETV9S",
        "colab_type": "text"
      },
      "source": [
        "## Encoding for classification\n",
        "Creating features for important words from the *clean_review* column so they \n",
        "can be used for creating the models."
      ]
    },
    {
      "cell_type": "code",
      "metadata": {
        "id": "8NAehKlaz6ZA",
        "colab_type": "code",
        "outputId": "11c67e39-9793-4eb7-8edd-8a9543e8eb8c",
        "colab": {
          "base_uri": "https://localhost:8080/",
          "height": 151
        }
      },
      "source": [
        "for word in important_words:\n",
        "    clean_data[word] = clean_data['clean_review'].apply(lambda text: text.split().count(word))\n",
        "final_data = clean_data.drop('clean_review', 1)\n",
        "final_data.head(), final_data.shape"
      ],
      "execution_count": 10,
      "outputs": [
        {
          "output_type": "execute_result",
          "data": {
            "text/plain": [
              "(   sentiment  baby  ...  almost  either\n",
              " 0          1     0  ...       0       0\n",
              " 1          1     0  ...       0       0\n",
              " 2          1     1  ...       0       0\n",
              " 3          1     0  ...       0       0\n",
              " 4          1     0  ...       0       0\n",
              " \n",
              " [5 rows x 194 columns], (52831, 194))"
            ]
          },
          "metadata": {
            "tags": []
          },
          "execution_count": 10
        }
      ]
    },
    {
      "cell_type": "markdown",
      "metadata": {
        "id": "5jjqnU_9GXdD",
        "colab_type": "text"
      },
      "source": [
        "## Splitting train and test data\n"
      ]
    },
    {
      "cell_type": "code",
      "metadata": {
        "id": "T03Ehs3oGrkw",
        "colab_type": "code",
        "outputId": "48f52624-e0e2-4c75-c4c7-6658a4d0a6d0",
        "colab": {
          "base_uri": "https://localhost:8080/",
          "height": 34
        }
      },
      "source": [
        "from sklearn.model_selection import train_test_split\n",
        "X = final_data[important_words]\n",
        "y = final_data['sentiment']\n",
        "train_X, test_X, train_y, test_y = train_test_split(X, y, test_size=0.2, random_state=1)\n",
        "train_X.shape, test_X.shape"
      ],
      "execution_count": 11,
      "outputs": [
        {
          "output_type": "execute_result",
          "data": {
            "text/plain": [
              "((42264, 193), (10567, 193))"
            ]
          },
          "metadata": {
            "tags": []
          },
          "execution_count": 11
        }
      ]
    },
    {
      "cell_type": "markdown",
      "metadata": {
        "id": "fKdIoR4cCpNT",
        "colab_type": "text"
      },
      "source": [
        "# Training models\n",
        "\n",
        "## Import libraries\n",
        "\n",
        "We are using the following algorithms for predicting the sentiment:\n",
        "\n",
        "\n",
        "*   [Logistic Regression](#logistic-regression)\n",
        "*   [Decision Tree](#decision-trees)\n",
        "*   [K-Nearest neighbors](#k-nearest-neighbors) \n",
        "*   [Support Vector Machine](#support-vector-machine)\n",
        "\n",
        "\n",
        "_Though decision trees are not a good model for calculation of more than 100 equally important features, we are just using it to see the difference in accuracy between other algorithms._"
      ]
    },
    {
      "cell_type": "code",
      "metadata": {
        "id": "v5V16HhdC6BY",
        "colab_type": "code",
        "colab": {}
      },
      "source": [
        "# Models\n",
        "from sklearn.model_selection import GridSearchCV\n",
        "from sklearn.linear_model import LogisticRegression\n",
        "from sklearn.tree import DecisionTreeClassifier\n",
        "from sklearn.neighbors import KNeighborsClassifier\n",
        "from sklearn.svm import SVC\n",
        "\n",
        "# Metrics\n",
        "from sklearn.metrics import confusion_matrix\n",
        "from sklearn.metrics import precision_score, recall_score, f1_score, accuracy_score"
      ],
      "execution_count": 0,
      "outputs": []
    },
    {
      "cell_type": "markdown",
      "metadata": {
        "id": "QcGKDQ2oIYAS",
        "colab_type": "text"
      },
      "source": [
        "An **accuracy table** is created which holds the values of accuracies of all the models trained.This table will be revealed after training all the models, just to keep up the suspence.<br>\n",
        "A utility function is created to calculate the metrics for each model and add it to the accuracy table.\n",
        "\n"
      ]
    },
    {
      "cell_type": "code",
      "metadata": {
        "id": "kjUuq7uqIOR9",
        "colab_type": "code",
        "colab": {}
      },
      "source": [
        "accuracy_table = pd.DataFrame(columns=['precision_score','recall_score', 'f1_score', 'accuracy_score'])\n",
        "\n",
        "def append_accuracy(model, prediction, true_val, label):\n",
        "    acc = []\n",
        "    acc.append(precision_score(prediction, true_val))\n",
        "    acc.append(recall_score(prediction, true_val))\n",
        "    acc.append(f1_score(prediction, true_val))\n",
        "    acc.append(accuracy_score(prediction, true_val))\n",
        "    accuracy_table.loc[label] = acc"
      ],
      "execution_count": 0,
      "outputs": []
    },
    {
      "cell_type": "markdown",
      "metadata": {
        "id": "VA-wDhHYGHZK",
        "colab_type": "text"
      },
      "source": [
        "## Logistic Regression\n"
      ]
    },
    {
      "cell_type": "code",
      "metadata": {
        "id": "P7XsosnFI_y2",
        "colab_type": "code",
        "outputId": "36c6744b-ce0f-4958-e0cf-e151d529da27",
        "colab": {
          "base_uri": "https://localhost:8080/",
          "height": 50
        }
      },
      "source": [
        "params = {'C': [0.001, 0.01, 0.1, 1, 10]}\n",
        "# This also applies 10 fold cross-validation\n",
        "model = GridSearchCV(LogisticRegression(solver='liblinear', random_state=1),param_grid=params, cv=10)\n",
        "model.fit(train_X, train_y)\n",
        "\n",
        "print(\"Chosen parameter :\", model.best_params_)\n",
        "print(\"Best cross-validation score :{:.3f}\".format(model.best_score_))"
      ],
      "execution_count": 14,
      "outputs": [
        {
          "output_type": "stream",
          "text": [
            "Chosen parameter : {'C': 0.1}\n",
            "Best cross-validation score :0.792\n"
          ],
          "name": "stdout"
        }
      ]
    },
    {
      "cell_type": "code",
      "metadata": {
        "id": "vTQz8OXTV9fd",
        "colab_type": "code",
        "outputId": "b6818611-97e0-49f1-9d7e-a2a61ec9532a",
        "colab": {
          "base_uri": "https://localhost:8080/",
          "height": 50
        }
      },
      "source": [
        "# finding the model accuracy and adding it to the table\n",
        "predictions = model.predict(test_X)\n",
        "append_accuracy(model, predictions, test_y, \"Logistic Regression\")\n",
        "cm_log_reg = confusion_matrix(predictions, test_y)\n",
        "cm_log_reg"
      ],
      "execution_count": 15,
      "outputs": [
        {
          "output_type": "execute_result",
          "data": {
            "text/plain": [
              "array([[4153, 1156],\n",
              "       [1075, 4183]])"
            ]
          },
          "metadata": {
            "tags": []
          },
          "execution_count": 15
        }
      ]
    },
    {
      "cell_type": "markdown",
      "metadata": {
        "id": "4gm151_9WmOa",
        "colab_type": "text"
      },
      "source": [
        "## Decision Trees"
      ]
    },
    {
      "cell_type": "code",
      "metadata": {
        "id": "U98C-lIiWzha",
        "colab_type": "code",
        "outputId": "19dafdda-4f36-4bf1-88f8-4f8c70fa3fae",
        "colab": {
          "base_uri": "https://localhost:8080/",
          "height": 50
        }
      },
      "source": [
        "params = {'max_leaf_nodes': [100, 200, 250, 300]}\n",
        "model = GridSearchCV(DecisionTreeClassifier(random_state=1), param_grid=params)\n",
        "model.fit(train_X, train_y)\n",
        "\n",
        "print(\"Chosen parameter :\", model.best_params_)\n",
        "print(\"Best accuracy score :{:.3f}\".format(model.best_score_))"
      ],
      "execution_count": 16,
      "outputs": [
        {
          "output_type": "stream",
          "text": [
            "Chosen parameter : {'max_leaf_nodes': 250}\n",
            "Best accuracy score :0.742\n"
          ],
          "name": "stdout"
        }
      ]
    },
    {
      "cell_type": "code",
      "metadata": {
        "id": "L0Qd2YnKYgg5",
        "colab_type": "code",
        "outputId": "19790fe3-6c41-4e92-81b1-1b825a1630d2",
        "colab": {
          "base_uri": "https://localhost:8080/",
          "height": 50
        }
      },
      "source": [
        "predictions = model.predict(test_X)\n",
        "append_accuracy(model, predictions, test_y, \"Decision Tree\")\n",
        "cm_dec_tree = confusion_matrix(predictions, test_y)\n",
        "cm_dec_tree"
      ],
      "execution_count": 17,
      "outputs": [
        {
          "output_type": "execute_result",
          "data": {
            "text/plain": [
              "array([[4051, 1443],\n",
              "       [1177, 3896]])"
            ]
          },
          "metadata": {
            "tags": []
          },
          "execution_count": 17
        }
      ]
    },
    {
      "cell_type": "markdown",
      "metadata": {
        "id": "53YNk0fTY551",
        "colab_type": "text"
      },
      "source": [
        "## K-Nearest Neighbors"
      ]
    },
    {
      "cell_type": "code",
      "metadata": {
        "id": "tan6ieXEY5Yk",
        "colab_type": "code",
        "colab": {
          "base_uri": "https://localhost:8080/",
          "height": 34
        },
        "outputId": "08d29e6e-c4b5-46bd-ab4a-309217ba7e9f"
      },
      "source": [
        "model = KNeighborsClassifier(n_neighbors=9)\n",
        "model.fit(train_X, train_y)\n",
        "\n",
        "print(\"Model Created\")"
      ],
      "execution_count": 18,
      "outputs": [
        {
          "output_type": "stream",
          "text": [
            "Model Created\n"
          ],
          "name": "stdout"
        }
      ]
    },
    {
      "cell_type": "markdown",
      "metadata": {
        "id": "rf0kscPaiIzn",
        "colab_type": "text"
      },
      "source": [
        "Prediction of the KNN model takes a long time since this should calculate the distances between each points and find K neighbors around it."
      ]
    },
    {
      "cell_type": "code",
      "metadata": {
        "id": "Hya5ozDhZtul",
        "colab_type": "code",
        "colab": {
          "base_uri": "https://localhost:8080/",
          "height": 50
        },
        "outputId": "b272725f-c0aa-46de-bdea-5456e16fdd90"
      },
      "source": [
        "predictions = model.predict(test_X)\n",
        "append_accuracy(model, predictions, test_y, \"K-nearest neighbors\")\n",
        "cm_KNN = confusion_matrix(predictions, test_y)\n",
        "cm_KNN"
      ],
      "execution_count": 19,
      "outputs": [
        {
          "output_type": "execute_result",
          "data": {
            "text/plain": [
              "array([[3218, 1328],\n",
              "       [2010, 4011]])"
            ]
          },
          "metadata": {
            "tags": []
          },
          "execution_count": 19
        }
      ]
    },
    {
      "cell_type": "markdown",
      "metadata": {
        "id": "p49RnPc-fZEs",
        "colab_type": "text"
      },
      "source": [
        "## Support Vector Machine"
      ]
    },
    {
      "cell_type": "code",
      "metadata": {
        "id": "_Xe5JUJQoX9q",
        "colab_type": "code",
        "colab": {}
      },
      "source": [
        "from sklearn.preprocessing import MinMaxScaler\n",
        "scaling = MinMaxScaler(feature_range=(-1,1)).fit(train_X)\n",
        "train_X = scaling.transform(train_X)\n",
        "test_X = scaling.transform(test_X)"
      ],
      "execution_count": 0,
      "outputs": []
    },
    {
      "cell_type": "markdown",
      "metadata": {
        "id": "wA03SmTb507x",
        "colab_type": "text"
      },
      "source": [
        "Training this model might take some time. We are normalising the data so that the values are between [-1, 1]. *Just sit back and relax.* ;)"
      ]
    },
    {
      "cell_type": "code",
      "metadata": {
        "id": "QmXWZ6Hko216",
        "colab_type": "code",
        "colab": {
          "base_uri": "https://localhost:8080/",
          "height": 34
        },
        "outputId": "33f0a148-07d6-4598-8302-aa279e877a11"
      },
      "source": [
        "model = SVC(kernel='rbf', gamma='auto', random_state=1)\n",
        "model.fit(train_X, train_y)\n",
        "\n",
        "print(\"Model created\")"
      ],
      "execution_count": 21,
      "outputs": [
        {
          "output_type": "stream",
          "text": [
            "Model created\n"
          ],
          "name": "stdout"
        }
      ]
    },
    {
      "cell_type": "code",
      "metadata": {
        "id": "JWsFDSWiksZz",
        "colab_type": "code",
        "colab": {
          "base_uri": "https://localhost:8080/",
          "height": 50
        },
        "outputId": "36646c1e-acd4-4245-bd39-b60600f1831c"
      },
      "source": [
        "predictions = model.predict(test_X)\n",
        "append_accuracy(model, predictions, test_y, \"Support vector machine\")\n",
        "cm_SVM = confusion_matrix(predictions, test_y)\n",
        "cm_SVM"
      ],
      "execution_count": 22,
      "outputs": [
        {
          "output_type": "execute_result",
          "data": {
            "text/plain": [
              "array([[3837, 1017],\n",
              "       [1391, 4322]])"
            ]
          },
          "metadata": {
            "tags": []
          },
          "execution_count": 22
        }
      ]
    },
    {
      "cell_type": "markdown",
      "metadata": {
        "id": "4G3JTFSmxV2g",
        "colab_type": "text"
      },
      "source": [
        "# Final Accuracy table\n",
        "\n",
        "Let's reveal the accuracy table from all the models calculated above and let's see which model performs the best on the test data."
      ]
    },
    {
      "cell_type": "code",
      "metadata": {
        "id": "avReWz6I7DhK",
        "colab_type": "code",
        "colab": {
          "base_uri": "https://localhost:8080/",
          "height": 166
        },
        "outputId": "9bae338d-709a-4b2d-ea26-96d618b4a771"
      },
      "source": [
        "accuracy_table"
      ],
      "execution_count": 23,
      "outputs": [
        {
          "output_type": "execute_result",
          "data": {
            "text/html": [
              "<div>\n",
              "<style scoped>\n",
              "    .dataframe tbody tr th:only-of-type {\n",
              "        vertical-align: middle;\n",
              "    }\n",
              "\n",
              "    .dataframe tbody tr th {\n",
              "        vertical-align: top;\n",
              "    }\n",
              "\n",
              "    .dataframe thead th {\n",
              "        text-align: right;\n",
              "    }\n",
              "</style>\n",
              "<table border=\"1\" class=\"dataframe\">\n",
              "  <thead>\n",
              "    <tr style=\"text-align: right;\">\n",
              "      <th></th>\n",
              "      <th>precision_score</th>\n",
              "      <th>recall_score</th>\n",
              "      <th>f1_score</th>\n",
              "      <th>accuracy_score</th>\n",
              "    </tr>\n",
              "  </thead>\n",
              "  <tbody>\n",
              "    <tr>\n",
              "      <th>Logistic Regression</th>\n",
              "      <td>0.783480</td>\n",
              "      <td>0.795550</td>\n",
              "      <td>0.789469</td>\n",
              "      <td>0.788871</td>\n",
              "    </tr>\n",
              "    <tr>\n",
              "      <th>Decision Tree</th>\n",
              "      <td>0.729725</td>\n",
              "      <td>0.767987</td>\n",
              "      <td>0.748367</td>\n",
              "      <td>0.752058</td>\n",
              "    </tr>\n",
              "    <tr>\n",
              "      <th>K-nearest neighbors</th>\n",
              "      <td>0.751264</td>\n",
              "      <td>0.666168</td>\n",
              "      <td>0.706162</td>\n",
              "      <td>0.684111</td>\n",
              "    </tr>\n",
              "    <tr>\n",
              "      <th>Support vector machine</th>\n",
              "      <td>0.809515</td>\n",
              "      <td>0.756520</td>\n",
              "      <td>0.782121</td>\n",
              "      <td>0.772121</td>\n",
              "    </tr>\n",
              "  </tbody>\n",
              "</table>\n",
              "</div>"
            ],
            "text/plain": [
              "                        precision_score  recall_score  f1_score  \\\n",
              "Logistic Regression            0.783480      0.795550  0.789469   \n",
              "Decision Tree                  0.729725      0.767987  0.748367   \n",
              "K-nearest neighbors            0.751264      0.666168  0.706162   \n",
              "Support vector machine         0.809515      0.756520  0.782121   \n",
              "\n",
              "                        accuracy_score  \n",
              "Logistic Regression           0.788871  \n",
              "Decision Tree                 0.752058  \n",
              "K-nearest neighbors           0.684111  \n",
              "Support vector machine        0.772121  "
            ]
          },
          "metadata": {
            "tags": []
          },
          "execution_count": 23
        }
      ]
    },
    {
      "cell_type": "code",
      "metadata": {
        "id": "jmmZi5arCGpF",
        "colab_type": "code",
        "colab": {
          "base_uri": "https://localhost:8080/",
          "height": 392
        },
        "outputId": "0d2350ec-8151-4bc8-9d72-bc9947b1bd47"
      },
      "source": [
        "accuracy_table.plot.bar()"
      ],
      "execution_count": 25,
      "outputs": [
        {
          "output_type": "execute_result",
          "data": {
            "text/plain": [
              "<matplotlib.axes._subplots.AxesSubplot at 0x7f669ac05780>"
            ]
          },
          "metadata": {
            "tags": []
          },
          "execution_count": 25
        },
        {
          "output_type": "display_data",
          "data": {
            "image/png": "[encoded data removed]",
            "text/plain": [
              "<Figure size 432x288 with 1 Axes>"
            ]
          },
          "metadata": {
            "tags": [],
            "needs_background": "light"
          }
        }
      ]
    },
    {
      "cell_type": "markdown",
      "metadata": {
        "id": "0THuVrZG7H5T",
        "colab_type": "text"
      },
      "source": [
        "## Inference\n",
        "\n",
        "### Observations:\n",
        "\n",
        "1.   Surpricingly K-nearest neighbor performs worst among all. It's performance may be optimised by tuning it's hyperparameters, which is not done here because it takes lot of time for prediction.\n",
        "2.   It is clear that decision trees are not good for sentiment analysis, since decision trees cannot make a good model with lots of features with equal importance.\n",
        "3.   Though SVM should do better for high dimensional data, logistic regression performs better in this dataset. \n",
        "\n",
        "Thus, we can infer that the model **Logistic Regression** does the best on the test data, followed by **SVM**.\n",
        "\n",
        "\n",
        "---\n",
        "\n",
        "\n"
      ]
    }
  ]
}