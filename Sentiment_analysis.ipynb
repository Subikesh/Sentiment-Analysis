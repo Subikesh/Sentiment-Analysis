{
  "nbformat": 4,
  "nbformat_minor": 0,
  "metadata": {
    "colab": {
      "name": "Sentiment analysis.ipynb",
      "provenance": [],
      "collapsed_sections": [],
      "toc_visible": true,
      "authorship_tag": "ABX9TyOsvNJauNbLgdlFya6y5jsa",
      "include_colab_link": true
    },
    "kernelspec": {
      "name": "python3",
      "display_name": "Python 3"
    }
  },
  "cells": [
    {
      "cell_type": "markdown",
      "metadata": {
        "id": "view-in-github",
        "colab_type": "text"
      },
      "source": [
        "<a href=\"https://colab.research.google.com/github/Subikesh/Sentiment-Analysis/blob/master/Sentiment_analysis.ipynb\" target=\"_parent\"><img src=\"https://colab.research.google.com/assets/colab-badge.svg\" alt=\"Open In Colab\"/></a>"
      ]
    },
    {
      "cell_type": "markdown",
      "metadata": {
        "id": "BsJJ_H6eQm3V",
        "colab_type": "text"
      },
      "source": [
        "# Sentiment Analysis\n",
        "\n",
        "In this project we'll get the dataset containing the reviews from amazon for baby products and their corresponding ratings given by the users. \n",
        "We will clean the unstructured data to structured data by encoding techniques.\n",
        "We will train many classification models to train the dataset and predict the sentiment of the customer in each reviews.\n",
        "Then finally, we will find the best model by accuracy of the models and train the final model for the dataset."
      ]
    },
    {
      "cell_type": "code",
      "metadata": {
        "id": "24wEk-igTEcN",
        "colab_type": "code",
        "colab": {}
      },
      "source": [
        "import pandas as pd\n",
        "import numpy as np\n",
        "\n",
        "pd.set_option('display.max_columns',5)"
      ],
      "execution_count": 0,
      "outputs": []
    },
    {
      "cell_type": "markdown",
      "metadata": {
        "id": "-C9DLXcCSzZ3",
        "colab_type": "text"
      },
      "source": [
        "# Loading Data"
      ]
    },
    {
      "cell_type": "code",
      "metadata": {
        "id": "EX80Iwf2OpWS",
        "colab_type": "code",
        "outputId": "39722a41-fa90-42ee-d178-1f344f5f32c0",
        "colab": {
          "base_uri": "https://localhost:8080/",
          "height": 34
        }
      },
      "source": [
        "from google.colab import drive\n",
        "drive.mount('/content/gdrive')"
      ],
      "execution_count": 28,
      "outputs": [
        {
          "output_type": "stream",
          "text": [
            "Drive already mounted at /content/gdrive; to attempt to forcibly remount, call drive.mount(\"/content/gdrive\", force_remount=True).\n"
          ],
          "name": "stdout"
        }
      ]
    },
    {
      "cell_type": "markdown",
      "metadata": {
        "id": "RzRoMHWAoC6N",
        "colab_type": "text"
      },
      "source": [
        "The dataset amazon-baby.csv contains a larger dataset than the one used here. This is used because the algorithms takes lot of time in the larger dataset."
      ]
    },
    {
      "cell_type": "code",
      "metadata": {
        "id": "8sI-g0ytS7Sw",
        "colab_type": "code",
        "outputId": "9b6b86e5-836b-41c6-8f38-c5833d9bfeb7",
        "colab": {
          "base_uri": "https://localhost:8080/",
          "height": 195
        }
      },
      "source": [
        "# amazon_data = pd.read_csv('/content/gdrive/My Drive/colab_input/amazon_baby.csv')\n",
        "amazon_data = pd.read_csv('/content/gdrive/My Drive/colab_input/amazon_baby_subset.csv')\n",
        "amazon_data.head()"
      ],
      "execution_count": 29,
      "outputs": [
        {
          "output_type": "execute_result",
          "data": {
            "text/html": [
              "<div>\n",
              "<style scoped>\n",
              "    .dataframe tbody tr th:only-of-type {\n",
              "        vertical-align: middle;\n",
              "    }\n",
              "\n",
              "    .dataframe tbody tr th {\n",
              "        vertical-align: top;\n",
              "    }\n",
              "\n",
              "    .dataframe thead th {\n",
              "        text-align: right;\n",
              "    }\n",
              "</style>\n",
              "<table border=\"1\" class=\"dataframe\">\n",
              "  <thead>\n",
              "    <tr style=\"text-align: right;\">\n",
              "      <th></th>\n",
              "      <th>name</th>\n",
              "      <th>review</th>\n",
              "      <th>rating</th>\n",
              "      <th>sentiment</th>\n",
              "    </tr>\n",
              "  </thead>\n",
              "  <tbody>\n",
              "    <tr>\n",
              "      <th>0</th>\n",
              "      <td>Stop Pacifier Sucking without tears with Thumb...</td>\n",
              "      <td>All of my kids have cried non-stop when I trie...</td>\n",
              "      <td>5</td>\n",
              "      <td>1</td>\n",
              "    </tr>\n",
              "    <tr>\n",
              "      <th>1</th>\n",
              "      <td>Nature's Lullabies Second Year Sticker Calendar</td>\n",
              "      <td>We wanted to get something to keep track of ou...</td>\n",
              "      <td>5</td>\n",
              "      <td>1</td>\n",
              "    </tr>\n",
              "    <tr>\n",
              "      <th>2</th>\n",
              "      <td>Nature's Lullabies Second Year Sticker Calendar</td>\n",
              "      <td>My daughter had her 1st baby over a year ago. ...</td>\n",
              "      <td>5</td>\n",
              "      <td>1</td>\n",
              "    </tr>\n",
              "    <tr>\n",
              "      <th>3</th>\n",
              "      <td>Lamaze Peekaboo, I Love You</td>\n",
              "      <td>One of baby's first and favorite books, and it...</td>\n",
              "      <td>4</td>\n",
              "      <td>1</td>\n",
              "    </tr>\n",
              "    <tr>\n",
              "      <th>4</th>\n",
              "      <td>SoftPlay Peek-A-Boo Where's Elmo A Children's ...</td>\n",
              "      <td>Very cute interactive book! My son loves this ...</td>\n",
              "      <td>5</td>\n",
              "      <td>1</td>\n",
              "    </tr>\n",
              "  </tbody>\n",
              "</table>\n",
              "</div>"
            ],
            "text/plain": [
              "                                                name  \\\n",
              "0  Stop Pacifier Sucking without tears with Thumb...   \n",
              "1    Nature's Lullabies Second Year Sticker Calendar   \n",
              "2    Nature's Lullabies Second Year Sticker Calendar   \n",
              "3                        Lamaze Peekaboo, I Love You   \n",
              "4  SoftPlay Peek-A-Boo Where's Elmo A Children's ...   \n",
              "\n",
              "                                              review  rating  sentiment  \n",
              "0  All of my kids have cried non-stop when I trie...       5          1  \n",
              "1  We wanted to get something to keep track of ou...       5          1  \n",
              "2  My daughter had her 1st baby over a year ago. ...       5          1  \n",
              "3  One of baby's first and favorite books, and it...       4          1  \n",
              "4  Very cute interactive book! My son loves this ...       5          1  "
            ]
          },
          "metadata": {
            "tags": []
          },
          "execution_count": 29
        }
      ]
    },
    {
      "cell_type": "markdown",
      "metadata": {
        "id": "DojRszY60mCZ",
        "colab_type": "text"
      },
      "source": [
        "Number of reviews for each rating in the dataset is shown below. Since this is a compact version of the original dataset, all the reviews with rating 3 are removed."
      ]
    },
    {
      "cell_type": "code",
      "metadata": {
        "id": "vGPVshp-Vxtc",
        "colab_type": "code",
        "outputId": "e4142444-8283-4cb8-f661-c5bb2f2d9617",
        "colab": {
          "base_uri": "https://localhost:8080/",
          "height": 293
        }
      },
      "source": [
        "amazon_data.groupby('rating').size().plot.bar()"
      ],
      "execution_count": 30,
      "outputs": [
        {
          "output_type": "execute_result",
          "data": {
            "text/plain": [
              "<matplotlib.axes._subplots.AxesSubplot at 0x7f09cffd2be0>"
            ]
          },
          "metadata": {
            "tags": []
          },
          "execution_count": 30
        },
        {
          "output_type": "display_data",
          "data": {
            "image/png": "[encoded data removed]",
            "text/plain": [
              "<Figure size 432x288 with 1 Axes>"
            ]
          },
          "metadata": {
            "tags": [],
            "needs_background": "light"
          }
        }
      ]
    },
    {
      "cell_type": "markdown",
      "metadata": {
        "id": "eCWRsVZnZWpw",
        "colab_type": "text"
      },
      "source": [
        "## Cleaning Data\n",
        "\n",
        "Let's create a sentiment column with sentiments as per the ratings given and remove all the reviews with rating 3 because intermediate reviews cannot be considered as positive or negative review"
      ]
    },
    {
      "cell_type": "code",
      "metadata": {
        "id": "7GYysATIaDKK",
        "colab_type": "code",
        "outputId": "4b1a6885-4ae5-441c-8d23-6ad4e9d8d35d",
        "colab": {
          "base_uri": "https://localhost:8080/",
          "height": 50
        }
      },
      "source": [
        "print('Data before droping ', amazon_data.shape)\n",
        "amazon_data = amazon_data[amazon_data['rating'] != 3]\n",
        "print(\"Data after droping rows\", amazon_data.shape)"
      ],
      "execution_count": 31,
      "outputs": [
        {
          "output_type": "stream",
          "text": [
            "Data before droping  (53072, 4)\n",
            "Data after droping rows (53072, 4)\n"
          ],
          "name": "stdout"
        }
      ]
    },
    {
      "cell_type": "code",
      "metadata": {
        "id": "yHo0BFxIalj3",
        "colab_type": "code",
        "outputId": "13553347-86b3-4698-e035-97c7dd02437f",
        "colab": {
          "base_uri": "https://localhost:8080/",
          "height": 195
        }
      },
      "source": [
        "amazon_data['sentiment'] = amazon_data['rating'].apply(lambda r: +1 if r>3 else -1)\n",
        "amazon_data.head()"
      ],
      "execution_count": 32,
      "outputs": [
        {
          "output_type": "execute_result",
          "data": {
            "text/html": [
              "<div>\n",
              "<style scoped>\n",
              "    .dataframe tbody tr th:only-of-type {\n",
              "        vertical-align: middle;\n",
              "    }\n",
              "\n",
              "    .dataframe tbody tr th {\n",
              "        vertical-align: top;\n",
              "    }\n",
              "\n",
              "    .dataframe thead th {\n",
              "        text-align: right;\n",
              "    }\n",
              "</style>\n",
              "<table border=\"1\" class=\"dataframe\">\n",
              "  <thead>\n",
              "    <tr style=\"text-align: right;\">\n",
              "      <th></th>\n",
              "      <th>name</th>\n",
              "      <th>review</th>\n",
              "      <th>rating</th>\n",
              "      <th>sentiment</th>\n",
              "    </tr>\n",
              "  </thead>\n",
              "  <tbody>\n",
              "    <tr>\n",
              "      <th>0</th>\n",
              "      <td>Stop Pacifier Sucking without tears with Thumb...</td>\n",
              "      <td>All of my kids have cried non-stop when I trie...</td>\n",
              "      <td>5</td>\n",
              "      <td>1</td>\n",
              "    </tr>\n",
              "    <tr>\n",
              "      <th>1</th>\n",
              "      <td>Nature's Lullabies Second Year Sticker Calendar</td>\n",
              "      <td>We wanted to get something to keep track of ou...</td>\n",
              "      <td>5</td>\n",
              "      <td>1</td>\n",
              "    </tr>\n",
              "    <tr>\n",
              "      <th>2</th>\n",
              "      <td>Nature's Lullabies Second Year Sticker Calendar</td>\n",
              "      <td>My daughter had her 1st baby over a year ago. ...</td>\n",
              "      <td>5</td>\n",
              "      <td>1</td>\n",
              "    </tr>\n",
              "    <tr>\n",
              "      <th>3</th>\n",
              "      <td>Lamaze Peekaboo, I Love You</td>\n",
              "      <td>One of baby's first and favorite books, and it...</td>\n",
              "      <td>4</td>\n",
              "      <td>1</td>\n",
              "    </tr>\n",
              "    <tr>\n",
              "      <th>4</th>\n",
              "      <td>SoftPlay Peek-A-Boo Where's Elmo A Children's ...</td>\n",
              "      <td>Very cute interactive book! My son loves this ...</td>\n",
              "      <td>5</td>\n",
              "      <td>1</td>\n",
              "    </tr>\n",
              "  </tbody>\n",
              "</table>\n",
              "</div>"
            ],
            "text/plain": [
              "                                                name  \\\n",
              "0  Stop Pacifier Sucking without tears with Thumb...   \n",
              "1    Nature's Lullabies Second Year Sticker Calendar   \n",
              "2    Nature's Lullabies Second Year Sticker Calendar   \n",
              "3                        Lamaze Peekaboo, I Love You   \n",
              "4  SoftPlay Peek-A-Boo Where's Elmo A Children's ...   \n",
              "\n",
              "                                              review  rating  sentiment  \n",
              "0  All of my kids have cried non-stop when I trie...       5          1  \n",
              "1  We wanted to get something to keep track of ou...       5          1  \n",
              "2  My daughter had her 1st baby over a year ago. ...       5          1  \n",
              "3  One of baby's first and favorite books, and it...       4          1  \n",
              "4  Very cute interactive book! My son loves this ...       5          1  "
            ]
          },
          "metadata": {
            "tags": []
          },
          "execution_count": 32
        }
      ]
    },
    {
      "cell_type": "code",
      "metadata": {
        "id": "QSkyTu4qbN37",
        "colab_type": "code",
        "outputId": "11e93a08-a59b-47e5-bc1b-e00b05b9a5f8",
        "colab": {
          "base_uri": "https://localhost:8080/",
          "height": 195
        }
      },
      "source": [
        "# Droping unwanted features to clean up space\n",
        "amazon_data = amazon_data.drop(columns = ['rating', 'name'])\n",
        "amazon_data.head()"
      ],
      "execution_count": 33,
      "outputs": [
        {
          "output_type": "execute_result",
          "data": {
            "text/html": [
              "<div>\n",
              "<style scoped>\n",
              "    .dataframe tbody tr th:only-of-type {\n",
              "        vertical-align: middle;\n",
              "    }\n",
              "\n",
              "    .dataframe tbody tr th {\n",
              "        vertical-align: top;\n",
              "    }\n",
              "\n",
              "    .dataframe thead th {\n",
              "        text-align: right;\n",
              "    }\n",
              "</style>\n",
              "<table border=\"1\" class=\"dataframe\">\n",
              "  <thead>\n",
              "    <tr style=\"text-align: right;\">\n",
              "      <th></th>\n",
              "      <th>review</th>\n",
              "      <th>sentiment</th>\n",
              "    </tr>\n",
              "  </thead>\n",
              "  <tbody>\n",
              "    <tr>\n",
              "      <th>0</th>\n",
              "      <td>All of my kids have cried non-stop when I trie...</td>\n",
              "      <td>1</td>\n",
              "    </tr>\n",
              "    <tr>\n",
              "      <th>1</th>\n",
              "      <td>We wanted to get something to keep track of ou...</td>\n",
              "      <td>1</td>\n",
              "    </tr>\n",
              "    <tr>\n",
              "      <th>2</th>\n",
              "      <td>My daughter had her 1st baby over a year ago. ...</td>\n",
              "      <td>1</td>\n",
              "    </tr>\n",
              "    <tr>\n",
              "      <th>3</th>\n",
              "      <td>One of baby's first and favorite books, and it...</td>\n",
              "      <td>1</td>\n",
              "    </tr>\n",
              "    <tr>\n",
              "      <th>4</th>\n",
              "      <td>Very cute interactive book! My son loves this ...</td>\n",
              "      <td>1</td>\n",
              "    </tr>\n",
              "  </tbody>\n",
              "</table>\n",
              "</div>"
            ],
            "text/plain": [
              "                                              review  sentiment\n",
              "0  All of my kids have cried non-stop when I trie...          1\n",
              "1  We wanted to get something to keep track of ou...          1\n",
              "2  My daughter had her 1st baby over a year ago. ...          1\n",
              "3  One of baby's first and favorite books, and it...          1\n",
              "4  Very cute interactive book! My son loves this ...          1"
            ]
          },
          "metadata": {
            "tags": []
          },
          "execution_count": 33
        }
      ]
    },
    {
      "cell_type": "markdown",
      "metadata": {
        "id": "AKllMkGJMnbN",
        "colab_type": "text"
      },
      "source": [
        "The important words from the reviews are taked as a json file, so that those features can be used to calculate the sentiment"
      ]
    },
    {
      "cell_type": "code",
      "metadata": {
        "id": "BhSlEVHyOcPf",
        "colab_type": "code",
        "outputId": "689d3baf-99b9-431d-e054-32e8f202eca5",
        "colab": {
          "base_uri": "https://localhost:8080/",
          "height": 34
        }
      },
      "source": [
        "import json\n",
        "with open('/content/gdrive/My Drive/colab_input/important_words.json', 'r') as f:\n",
        "    important_words = json.load(f)\n",
        "important_words = [str(s) for s in important_words]\n",
        "print(len(important_words), \"words imported from json\")"
      ],
      "execution_count": 34,
      "outputs": [
        {
          "output_type": "stream",
          "text": [
            "193 words imported from json\n"
          ],
          "name": "stdout"
        }
      ]
    },
    {
      "cell_type": "code",
      "metadata": {
        "id": "PcB30OkUO48n",
        "colab_type": "code",
        "outputId": "b829584b-a96a-4024-ed71-caf10bcbed55",
        "colab": {
          "base_uri": "https://localhost:8080/",
          "height": 195
        }
      },
      "source": [
        "import string \n",
        "\n",
        "# Removing the punctuations from the reviews so there wont be any problem in retrieving the words\n",
        "def remove_punctuations(text):\n",
        "    translator = text.maketrans('', '', string.punctuation)\n",
        "    text = text.translate(translator)\n",
        "    return text\n",
        "\n",
        "amazon_data = amazon_data.dropna()\n",
        "amazon_data['clean_review'] = amazon_data['review'].apply(remove_punctuations)\n",
        "clean_data = amazon_data.drop('review', axis=1)\n",
        "clean_data.head()"
      ],
      "execution_count": 35,
      "outputs": [
        {
          "output_type": "execute_result",
          "data": {
            "text/html": [
              "<div>\n",
              "<style scoped>\n",
              "    .dataframe tbody tr th:only-of-type {\n",
              "        vertical-align: middle;\n",
              "    }\n",
              "\n",
              "    .dataframe tbody tr th {\n",
              "        vertical-align: top;\n",
              "    }\n",
              "\n",
              "    .dataframe thead th {\n",
              "        text-align: right;\n",
              "    }\n",
              "</style>\n",
              "<table border=\"1\" class=\"dataframe\">\n",
              "  <thead>\n",
              "    <tr style=\"text-align: right;\">\n",
              "      <th></th>\n",
              "      <th>sentiment</th>\n",
              "      <th>clean_review</th>\n",
              "    </tr>\n",
              "  </thead>\n",
              "  <tbody>\n",
              "    <tr>\n",
              "      <th>0</th>\n",
              "      <td>1</td>\n",
              "      <td>All of my kids have cried nonstop when I tried...</td>\n",
              "    </tr>\n",
              "    <tr>\n",
              "      <th>1</th>\n",
              "      <td>1</td>\n",
              "      <td>We wanted to get something to keep track of ou...</td>\n",
              "    </tr>\n",
              "    <tr>\n",
              "      <th>2</th>\n",
              "      <td>1</td>\n",
              "      <td>My daughter had her 1st baby over a year ago S...</td>\n",
              "    </tr>\n",
              "    <tr>\n",
              "      <th>3</th>\n",
              "      <td>1</td>\n",
              "      <td>One of babys first and favorite books and it i...</td>\n",
              "    </tr>\n",
              "    <tr>\n",
              "      <th>4</th>\n",
              "      <td>1</td>\n",
              "      <td>Very cute interactive book My son loves this b...</td>\n",
              "    </tr>\n",
              "  </tbody>\n",
              "</table>\n",
              "</div>"
            ],
            "text/plain": [
              "   sentiment                                       clean_review\n",
              "0          1  All of my kids have cried nonstop when I tried...\n",
              "1          1  We wanted to get something to keep track of ou...\n",
              "2          1  My daughter had her 1st baby over a year ago S...\n",
              "3          1  One of babys first and favorite books and it i...\n",
              "4          1  Very cute interactive book My son loves this b..."
            ]
          },
          "metadata": {
            "tags": []
          },
          "execution_count": 35
        }
      ]
    },
    {
      "cell_type": "markdown",
      "metadata": {
        "id": "ucc-8cxETV9S",
        "colab_type": "text"
      },
      "source": [
        "## Encoding for classification\n",
        "Creating features for important words from the *clean_review* column so they \n",
        "can be used for creating the models."
      ]
    },
    {
      "cell_type": "code",
      "metadata": {
        "id": "8NAehKlaz6ZA",
        "colab_type": "code",
        "colab": {
          "base_uri": "https://localhost:8080/",
          "height": 151
        },
        "outputId": "7a063852-65b7-442f-ea8a-50bb79e20f8b"
      },
      "source": [
        "for word in important_words:\n",
        "    clean_data[word] = clean_data['clean_review'].apply(lambda text: text.split().count(word))\n",
        "final_data = clean_data.drop('clean_review', 1)\n",
        "final_data.head(), final_data.shape"
      ],
      "execution_count": 36,
      "outputs": [
        {
          "output_type": "execute_result",
          "data": {
            "text/plain": [
              "(   sentiment  baby  ...  almost  either\n",
              " 0          1     0  ...       0       0\n",
              " 1          1     0  ...       0       0\n",
              " 2          1     1  ...       0       0\n",
              " 3          1     0  ...       0       0\n",
              " 4          1     0  ...       0       0\n",
              " \n",
              " [5 rows x 194 columns], (52831, 194))"
            ]
          },
          "metadata": {
            "tags": []
          },
          "execution_count": 36
        }
      ]
    },
    {
      "cell_type": "markdown",
      "metadata": {
        "id": "5jjqnU_9GXdD",
        "colab_type": "text"
      },
      "source": [
        "## Splitting train and test data\n"
      ]
    },
    {
      "cell_type": "code",
      "metadata": {
        "id": "T03Ehs3oGrkw",
        "colab_type": "code",
        "colab": {
          "base_uri": "https://localhost:8080/",
          "height": 34
        },
        "outputId": "8775ee94-3a00-4fa8-8bd5-72663353be6e"
      },
      "source": [
        "from sklearn.model_selection import train_test_split\n",
        "X = final_data[important_words]\n",
        "y = final_data['sentiment']\n",
        "train_X, test_X, train_y, test_y = train_test_split(X, y, test_size=0.2, random_state=1)\n",
        "train_X.shape, test_X.shape"
      ],
      "execution_count": 38,
      "outputs": [
        {
          "output_type": "execute_result",
          "data": {
            "text/plain": [
              "((42264, 193), (10567, 193))"
            ]
          },
          "metadata": {
            "tags": []
          },
          "execution_count": 38
        }
      ]
    },
    {
      "cell_type": "markdown",
      "metadata": {
        "id": "fKdIoR4cCpNT",
        "colab_type": "text"
      },
      "source": [
        "# Training models\n",
        "\n",
        "## Import libraries"
      ]
    },
    {
      "cell_type": "code",
      "metadata": {
        "id": "v5V16HhdC6BY",
        "colab_type": "code",
        "colab": {}
      },
      "source": [
        "# Models\n",
        "from sklearn.model_selection import GridSearchCV\n",
        "from sklearn.linear_model import LogisticRegression\n",
        "from sklearn.tree import DecisionTreeClassifier\n",
        "from sklearn.ensemble import RandomForestClassifier\n",
        "from sklearn.svm import SVC\n",
        "\n",
        "# Metrics\n",
        "from sklearn.metrics import confusion_matrix\n",
        "from sklearn.metrics import precision_score, recall_score, f1_score, accuracy_score"
      ],
      "execution_count": 0,
      "outputs": []
    },
    {
      "cell_type": "markdown",
      "metadata": {
        "id": "QcGKDQ2oIYAS",
        "colab_type": "text"
      },
      "source": [
        "An **accuracy table** is created which holds the values of accuracies of all the models trained.<br>\n",
        "A utility function is created to calculate the metrics for each model and add it to the accuracy table.\n",
        "\n"
      ]
    },
    {
      "cell_type": "code",
      "metadata": {
        "id": "kjUuq7uqIOR9",
        "colab_type": "code",
        "colab": {}
      },
      "source": [
        "accuracy_table = pd.DataFrame(columns=['precision_score','recall_score', 'f1_score', 'accuracy_score'])\n",
        "\n",
        "def append_accuracy(model, prediction, true_val, label):\n",
        "    acc = []\n",
        "    acc.append(model.precision_score(prediction, true_val))\n",
        "    acc.append(model.recall_score(prediction, true_val))\n",
        "    acc.append(model.f1_score(prediction, true_val))\n",
        "    acc.append(model.accuracy_score(prediction, true_val))\n",
        "    accuracy_table.loc[label] = acc"
      ],
      "execution_count": 0,
      "outputs": []
    },
    {
      "cell_type": "markdown",
      "metadata": {
        "id": "VA-wDhHYGHZK",
        "colab_type": "text"
      },
      "source": [
        "## Logistic Regression\n"
      ]
    },
    {
      "cell_type": "code",
      "metadata": {
        "id": "P7XsosnFI_y2",
        "colab_type": "code",
        "colab": {}
      },
      "source": [
        "params = {'C': [0.001, 0.01, 0.1, 1, 10]}\n",
        "model = GridSearchCV(LogisticRegression(solver='liblinear'),param_grid=params, cv=5)\n",
        "model.fit(train_X, train_y)\n",
        "\n"
      ],
      "execution_count": 0,
      "outputs": []
    }
  ]
}